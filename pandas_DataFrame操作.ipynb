{
 "cells": [
  {
   "cell_type": "markdown",
   "metadata": {
    "toc-hr-collapsed": false
   },
   "source": [
    "# 创建DataFram"
   ]
  },
  {
   "cell_type": "markdown",
   "metadata": {},
   "source": [
    "> DataFram（data，index，columns，...）表格型数据\n",
    " - data=list/dict/数组...\n",
    " - index=None 行索引默认自动添加0,1,2...(行索引推荐使用默认索引)\n",
    " - columns=None/list 列索引默认自己添加0,1,2..."
   ]
  },
  {
   "cell_type": "markdown",
   "metadata": {},
   "source": [
    "## 通过list创建DataFram\n",
    "> - 行、列会默认添加数字索引\n",
    "> - 可以有缺失数据"
   ]
  },
  {
   "cell_type": "code",
   "execution_count": 12,
   "metadata": {
    "scrolled": true
   },
   "outputs": [],
   "source": [
    "import pandas as pd\n",
    "import numpy as np"
   ]
  },
  {
   "cell_type": "code",
   "execution_count": 11,
   "metadata": {},
   "outputs": [
    {
     "data": {
      "text/html": [
       "<div>\n",
       "<style scoped>\n",
       "    .dataframe tbody tr th:only-of-type {\n",
       "        vertical-align: middle;\n",
       "    }\n",
       "\n",
       "    .dataframe tbody tr th {\n",
       "        vertical-align: top;\n",
       "    }\n",
       "\n",
       "    .dataframe thead th {\n",
       "        text-align: right;\n",
       "    }\n",
       "</style>\n",
       "<table border=\"1\" class=\"dataframe\">\n",
       "  <thead>\n",
       "    <tr style=\"text-align: right;\">\n",
       "      <th></th>\n",
       "      <th>0</th>\n",
       "    </tr>\n",
       "  </thead>\n",
       "  <tbody>\n",
       "    <tr>\n",
       "      <th>0</th>\n",
       "      <td>12</td>\n",
       "    </tr>\n",
       "    <tr>\n",
       "      <th>1</th>\n",
       "      <td>13</td>\n",
       "    </tr>\n",
       "    <tr>\n",
       "      <th>2</th>\n",
       "      <td>34</td>\n",
       "    </tr>\n",
       "  </tbody>\n",
       "</table>\n",
       "</div>"
      ],
      "text/plain": [
       "    0\n",
       "0  12\n",
       "1  13\n",
       "2  34"
      ]
     },
     "execution_count": 11,
     "metadata": {},
     "output_type": "execute_result"
    }
   ],
   "source": [
    "data=[12,13,34] #一维lsist\n",
    "df=pd.DataFrame(data)\n",
    "df"
   ]
  },
  {
   "cell_type": "code",
   "execution_count": 45,
   "metadata": {},
   "outputs": [
    {
     "data": {
      "text/html": [
       "<div>\n",
       "<style scoped>\n",
       "    .dataframe tbody tr th:only-of-type {\n",
       "        vertical-align: middle;\n",
       "    }\n",
       "\n",
       "    .dataframe tbody tr th {\n",
       "        vertical-align: top;\n",
       "    }\n",
       "\n",
       "    .dataframe thead th {\n",
       "        text-align: right;\n",
       "    }\n",
       "</style>\n",
       "<table border=\"1\" class=\"dataframe\">\n",
       "  <thead>\n",
       "    <tr style=\"text-align: right;\">\n",
       "      <th></th>\n",
       "      <th>0</th>\n",
       "      <th>1</th>\n",
       "      <th>2</th>\n",
       "    </tr>\n",
       "  </thead>\n",
       "  <tbody>\n",
       "    <tr>\n",
       "      <th>0</th>\n",
       "      <td>3</td>\n",
       "      <td>5</td>\n",
       "      <td>7</td>\n",
       "    </tr>\n",
       "    <tr>\n",
       "      <th>1</th>\n",
       "      <td>2</td>\n",
       "      <td>4</td>\n",
       "      <td>6</td>\n",
       "    </tr>\n",
       "  </tbody>\n",
       "</table>\n",
       "</div>"
      ],
      "text/plain": [
       "   0  1  2\n",
       "0  3  5  7\n",
       "1  2  4  6"
      ]
     },
     "execution_count": 45,
     "metadata": {},
     "output_type": "execute_result"
    }
   ],
   "source": [
    "data=[[3,5,7],[2,4,6]] #二维list\n",
    "df=pd.DataFrame(data)\n",
    "df"
   ]
  },
  {
   "cell_type": "code",
   "execution_count": 46,
   "metadata": {},
   "outputs": [
    {
     "data": {
      "text/html": [
       "<div>\n",
       "<style scoped>\n",
       "    .dataframe tbody tr th:only-of-type {\n",
       "        vertical-align: middle;\n",
       "    }\n",
       "\n",
       "    .dataframe tbody tr th {\n",
       "        vertical-align: top;\n",
       "    }\n",
       "\n",
       "    .dataframe thead th {\n",
       "        text-align: right;\n",
       "    }\n",
       "</style>\n",
       "<table border=\"1\" class=\"dataframe\">\n",
       "  <thead>\n",
       "    <tr style=\"text-align: right;\">\n",
       "      <th></th>\n",
       "      <th>0</th>\n",
       "      <th>1</th>\n",
       "      <th>2</th>\n",
       "    </tr>\n",
       "  </thead>\n",
       "  <tbody>\n",
       "    <tr>\n",
       "      <th>0</th>\n",
       "      <td>3</td>\n",
       "      <td>NaN</td>\n",
       "      <td>NaN</td>\n",
       "    </tr>\n",
       "    <tr>\n",
       "      <th>1</th>\n",
       "      <td>3</td>\n",
       "      <td>6.0</td>\n",
       "      <td>8.0</td>\n",
       "    </tr>\n",
       "  </tbody>\n",
       "</table>\n",
       "</div>"
      ],
      "text/plain": [
       "   0    1    2\n",
       "0  3  NaN  NaN\n",
       "1  3  6.0  8.0"
      ]
     },
     "execution_count": 46,
     "metadata": {},
     "output_type": "execute_result"
    }
   ],
   "source": [
    "data=[[3,],[3,6,8]] #二维list,缺失数据会自动填充NaN\n",
    "df=pd.DataFrame(data)\n",
    "df"
   ]
  },
  {
   "cell_type": "markdown",
   "metadata": {},
   "source": [
    "## 通过dict创建DataFram\n",
    "> - 默认dict键作为列索引，默认数字作为行索引，dict值作为行数据。<u>使用字典创建的DataFrame后，则columns参数将不可被使用。</u>\n",
    "> - 不能有缺失数据"
   ]
  },
  {
   "cell_type": "code",
   "execution_count": 47,
   "metadata": {},
   "outputs": [
    {
     "data": {
      "text/html": [
       "<div>\n",
       "<style scoped>\n",
       "    .dataframe tbody tr th:only-of-type {\n",
       "        vertical-align: middle;\n",
       "    }\n",
       "\n",
       "    .dataframe tbody tr th {\n",
       "        vertical-align: top;\n",
       "    }\n",
       "\n",
       "    .dataframe thead th {\n",
       "        text-align: right;\n",
       "    }\n",
       "</style>\n",
       "<table border=\"1\" class=\"dataframe\">\n",
       "  <thead>\n",
       "    <tr style=\"text-align: right;\">\n",
       "      <th></th>\n",
       "      <th>班级</th>\n",
       "      <th>期中</th>\n",
       "      <th>期末</th>\n",
       "    </tr>\n",
       "  </thead>\n",
       "  <tbody>\n",
       "    <tr>\n",
       "      <th>0</th>\n",
       "      <td>18计算机</td>\n",
       "      <td>50</td>\n",
       "      <td>80</td>\n",
       "    </tr>\n",
       "    <tr>\n",
       "      <th>1</th>\n",
       "      <td>18计算机</td>\n",
       "      <td>60</td>\n",
       "      <td>90</td>\n",
       "    </tr>\n",
       "    <tr>\n",
       "      <th>2</th>\n",
       "      <td>18计算机</td>\n",
       "      <td>70</td>\n",
       "      <td>89</td>\n",
       "    </tr>\n",
       "  </tbody>\n",
       "</table>\n",
       "</div>"
      ],
      "text/plain": [
       "      班级  期中  期末\n",
       "0  18计算机  50  80\n",
       "1  18计算机  60  90\n",
       "2  18计算机  70  89"
      ]
     },
     "execution_count": 47,
     "metadata": {},
     "output_type": "execute_result"
    }
   ],
   "source": [
    "data={\n",
    "    '班级':'18计算机',\n",
    "    '期中':[50,60,70],\n",
    "    '期末':[80,90,89],\n",
    "\n",
    "}\n",
    "df=pd.DataFrame(data)\n",
    "df"
   ]
  },
  {
   "cell_type": "markdown",
   "metadata": {
    "toc-hr-collapsed": true
   },
   "source": [
    "## 通过其他形式数组创建DataFram"
   ]
  },
  {
   "cell_type": "code",
   "execution_count": 15,
   "metadata": {},
   "outputs": [
    {
     "data": {
      "text/html": [
       "<div>\n",
       "<style scoped>\n",
       "    .dataframe tbody tr th:only-of-type {\n",
       "        vertical-align: middle;\n",
       "    }\n",
       "\n",
       "    .dataframe tbody tr th {\n",
       "        vertical-align: top;\n",
       "    }\n",
       "\n",
       "    .dataframe thead th {\n",
       "        text-align: right;\n",
       "    }\n",
       "</style>\n",
       "<table border=\"1\" class=\"dataframe\">\n",
       "  <thead>\n",
       "    <tr style=\"text-align: right;\">\n",
       "      <th></th>\n",
       "      <th>A</th>\n",
       "      <th>B</th>\n",
       "      <th>C</th>\n",
       "      <th>D</th>\n",
       "      <th>E</th>\n",
       "      <th>F</th>\n",
       "    </tr>\n",
       "  </thead>\n",
       "  <tbody>\n",
       "    <tr>\n",
       "      <th>0</th>\n",
       "      <td>-0.872659</td>\n",
       "      <td>-0.122992</td>\n",
       "      <td>2.636123</td>\n",
       "      <td>0.770400</td>\n",
       "      <td>0.892992</td>\n",
       "      <td>-0.374129</td>\n",
       "    </tr>\n",
       "    <tr>\n",
       "      <th>1</th>\n",
       "      <td>0.416781</td>\n",
       "      <td>1.256211</td>\n",
       "      <td>0.906888</td>\n",
       "      <td>-0.347465</td>\n",
       "      <td>-0.188241</td>\n",
       "      <td>0.896893</td>\n",
       "    </tr>\n",
       "    <tr>\n",
       "      <th>2</th>\n",
       "      <td>-0.352549</td>\n",
       "      <td>1.098094</td>\n",
       "      <td>0.005864</td>\n",
       "      <td>0.877227</td>\n",
       "      <td>0.570165</td>\n",
       "      <td>1.315195</td>\n",
       "    </tr>\n",
       "    <tr>\n",
       "      <th>3</th>\n",
       "      <td>0.649440</td>\n",
       "      <td>0.162835</td>\n",
       "      <td>0.502944</td>\n",
       "      <td>0.023251</td>\n",
       "      <td>-1.346971</td>\n",
       "      <td>0.432295</td>\n",
       "    </tr>\n",
       "    <tr>\n",
       "      <th>4</th>\n",
       "      <td>-0.179765</td>\n",
       "      <td>-0.066572</td>\n",
       "      <td>1.279274</td>\n",
       "      <td>-0.009821</td>\n",
       "      <td>0.108073</td>\n",
       "      <td>0.252680</td>\n",
       "    </tr>\n",
       "    <tr>\n",
       "      <th>5</th>\n",
       "      <td>0.641662</td>\n",
       "      <td>-0.929013</td>\n",
       "      <td>-0.536790</td>\n",
       "      <td>-1.691921</td>\n",
       "      <td>0.542677</td>\n",
       "      <td>0.259854</td>\n",
       "    </tr>\n",
       "    <tr>\n",
       "      <th>6</th>\n",
       "      <td>-0.097167</td>\n",
       "      <td>0.759347</td>\n",
       "      <td>-0.916961</td>\n",
       "      <td>1.543035</td>\n",
       "      <td>-0.200398</td>\n",
       "      <td>0.900975</td>\n",
       "    </tr>\n",
       "    <tr>\n",
       "      <th>7</th>\n",
       "      <td>1.192595</td>\n",
       "      <td>-0.622756</td>\n",
       "      <td>-1.217379</td>\n",
       "      <td>0.018877</td>\n",
       "      <td>-0.933094</td>\n",
       "      <td>1.769422</td>\n",
       "    </tr>\n",
       "    <tr>\n",
       "      <th>8</th>\n",
       "      <td>0.049233</td>\n",
       "      <td>0.664864</td>\n",
       "      <td>1.423301</td>\n",
       "      <td>1.335033</td>\n",
       "      <td>-1.083737</td>\n",
       "      <td>-1.542226</td>\n",
       "    </tr>\n",
       "    <tr>\n",
       "      <th>9</th>\n",
       "      <td>0.016577</td>\n",
       "      <td>-0.164280</td>\n",
       "      <td>0.276651</td>\n",
       "      <td>-0.095229</td>\n",
       "      <td>0.023373</td>\n",
       "      <td>-0.224791</td>\n",
       "    </tr>\n",
       "  </tbody>\n",
       "</table>\n",
       "</div>"
      ],
      "text/plain": [
       "          A         B         C         D         E         F\n",
       "0 -0.872659 -0.122992  2.636123  0.770400  0.892992 -0.374129\n",
       "1  0.416781  1.256211  0.906888 -0.347465 -0.188241  0.896893\n",
       "2 -0.352549  1.098094  0.005864  0.877227  0.570165  1.315195\n",
       "3  0.649440  0.162835  0.502944  0.023251 -1.346971  0.432295\n",
       "4 -0.179765 -0.066572  1.279274 -0.009821  0.108073  0.252680\n",
       "5  0.641662 -0.929013 -0.536790 -1.691921  0.542677  0.259854\n",
       "6 -0.097167  0.759347 -0.916961  1.543035 -0.200398  0.900975\n",
       "7  1.192595 -0.622756 -1.217379  0.018877 -0.933094  1.769422\n",
       "8  0.049233  0.664864  1.423301  1.335033 -1.083737 -1.542226\n",
       "9  0.016577 -0.164280  0.276651 -0.095229  0.023373 -0.224791"
      ]
     },
     "execution_count": 15,
     "metadata": {},
     "output_type": "execute_result"
    }
   ],
   "source": [
    "data=np.random.randn(10,6)\n",
    "blist=list('ABCDEF')\n",
    "alist=np.arange(0,10)\n",
    "df=pd.DataFrame(data,index=alist,columns=blist)\n",
    "df"
   ]
  },
  {
   "cell_type": "markdown",
   "metadata": {},
   "source": [
    "## 外部导入数据创建DataFram\n",
    "> 利用pd.read_excel(),pd.read_csv，...读取外部文件导入数据来创建"
   ]
  },
  {
   "cell_type": "code",
   "execution_count": 6,
   "metadata": {},
   "outputs": [
    {
     "data": {
      "text/html": [
       "<div>\n",
       "<style scoped>\n",
       "    .dataframe tbody tr th:only-of-type {\n",
       "        vertical-align: middle;\n",
       "    }\n",
       "\n",
       "    .dataframe tbody tr th {\n",
       "        vertical-align: top;\n",
       "    }\n",
       "\n",
       "    .dataframe thead th {\n",
       "        text-align: right;\n",
       "    }\n",
       "</style>\n",
       "<table border=\"1\" class=\"dataframe\">\n",
       "  <thead>\n",
       "    <tr style=\"text-align: right;\">\n",
       "      <th></th>\n",
       "      <th>班级</th>\n",
       "      <th>学期</th>\n",
       "      <th>姓名</th>\n",
       "      <th>分数</th>\n",
       "      <th>科目</th>\n",
       "    </tr>\n",
       "  </thead>\n",
       "  <tbody>\n",
       "    <tr>\n",
       "      <th>0</th>\n",
       "      <td>17汽车</td>\n",
       "      <td>201704</td>\n",
       "      <td>熊洪林</td>\n",
       "      <td>76.3</td>\n",
       "      <td>哲学与人生</td>\n",
       "    </tr>\n",
       "    <tr>\n",
       "      <th>1</th>\n",
       "      <td>17汽车</td>\n",
       "      <td>201704</td>\n",
       "      <td>王索</td>\n",
       "      <td>及格</td>\n",
       "      <td>哲学与人生</td>\n",
       "    </tr>\n",
       "    <tr>\n",
       "      <th>2</th>\n",
       "      <td>17汽车</td>\n",
       "      <td>201704</td>\n",
       "      <td>梁诚</td>\n",
       "      <td>68.6</td>\n",
       "      <td>哲学与人生</td>\n",
       "    </tr>\n",
       "    <tr>\n",
       "      <th>3</th>\n",
       "      <td>17汽车</td>\n",
       "      <td>201704</td>\n",
       "      <td>徐雨志超</td>\n",
       "      <td>NaN</td>\n",
       "      <td>哲学与人生</td>\n",
       "    </tr>\n",
       "    <tr>\n",
       "      <th>4</th>\n",
       "      <td>17汽车</td>\n",
       "      <td>201704</td>\n",
       "      <td>林斌</td>\n",
       "      <td>70.6</td>\n",
       "      <td>哲学与人生</td>\n",
       "    </tr>\n",
       "    <tr>\n",
       "      <th>5</th>\n",
       "      <td>17汽车</td>\n",
       "      <td>201704</td>\n",
       "      <td>陈林峰</td>\n",
       "      <td>66.8</td>\n",
       "      <td>哲学与人生</td>\n",
       "    </tr>\n",
       "  </tbody>\n",
       "</table>\n",
       "</div>"
      ],
      "text/plain": [
       "     班级      学期    姓名    分数     科目\n",
       "0  17汽车  201704   熊洪林  76.3  哲学与人生\n",
       "1  17汽车  201704    王索    及格  哲学与人生\n",
       "2  17汽车  201704    梁诚  68.6  哲学与人生\n",
       "3  17汽车  201704  徐雨志超   NaN  哲学与人生\n",
       "4  17汽车  201704    林斌  70.6  哲学与人生\n",
       "5  17汽车  201704   陈林峰  66.8  哲学与人生"
      ]
     },
     "execution_count": 6,
     "metadata": {},
     "output_type": "execute_result"
    }
   ],
   "source": [
    "df=pd.read_excel('demo.xlsx')\n",
    "df"
   ]
  },
  {
   "cell_type": "markdown",
   "metadata": {
    "toc-hr-collapsed": false
   },
   "source": [
    "# 索引\n",
    "> - 行索引，index=None/自定义list索引，默认是数字索引，可也有自定义，行索引推荐使用默认的数字索引。\n",
    "> - 列索引，columns=None/自定义list索引，默认是数字索引，可以自定义。\n",
    "> - 用字典创建的DataFram列索引不能被修改,只能用dict的key作为列索引，此时行索引默认为数字索引。"
   ]
  },
  {
   "cell_type": "markdown",
   "metadata": {},
   "source": [
    "## 默认索引\n",
    "> 不写index，columns或index=None，columns=None，结果都是默认索引"
   ]
  },
  {
   "cell_type": "code",
   "execution_count": 49,
   "metadata": {},
   "outputs": [
    {
     "data": {
      "text/html": [
       "<div>\n",
       "<style scoped>\n",
       "    .dataframe tbody tr th:only-of-type {\n",
       "        vertical-align: middle;\n",
       "    }\n",
       "\n",
       "    .dataframe tbody tr th {\n",
       "        vertical-align: top;\n",
       "    }\n",
       "\n",
       "    .dataframe thead th {\n",
       "        text-align: right;\n",
       "    }\n",
       "</style>\n",
       "<table border=\"1\" class=\"dataframe\">\n",
       "  <thead>\n",
       "    <tr style=\"text-align: right;\">\n",
       "      <th></th>\n",
       "      <th>0</th>\n",
       "      <th>1</th>\n",
       "      <th>2</th>\n",
       "      <th>3</th>\n",
       "    </tr>\n",
       "  </thead>\n",
       "  <tbody>\n",
       "    <tr>\n",
       "      <th>0</th>\n",
       "      <td>3</td>\n",
       "      <td>5</td>\n",
       "      <td>7</td>\n",
       "      <td>5</td>\n",
       "    </tr>\n",
       "    <tr>\n",
       "      <th>1</th>\n",
       "      <td>3</td>\n",
       "      <td>6</td>\n",
       "      <td>8</td>\n",
       "      <td>4</td>\n",
       "    </tr>\n",
       "    <tr>\n",
       "      <th>2</th>\n",
       "      <td>11</td>\n",
       "      <td>34</td>\n",
       "      <td>56</td>\n",
       "      <td>23</td>\n",
       "    </tr>\n",
       "  </tbody>\n",
       "</table>\n",
       "</div>"
      ],
      "text/plain": [
       "    0   1   2   3\n",
       "0   3   5   7   5\n",
       "1   3   6   8   4\n",
       "2  11  34  56  23"
      ]
     },
     "execution_count": 49,
     "metadata": {},
     "output_type": "execute_result"
    }
   ],
   "source": [
    "data=[[3,5,7,5],[3,6,8,4],[11,34,56,23]] \n",
    "df=pd.DataFrame(data,index=None,columns=None)\n",
    "df"
   ]
  },
  {
   "cell_type": "code",
   "execution_count": 16,
   "metadata": {},
   "outputs": [
    {
     "data": {
      "text/html": [
       "<div>\n",
       "<style scoped>\n",
       "    .dataframe tbody tr th:only-of-type {\n",
       "        vertical-align: middle;\n",
       "    }\n",
       "\n",
       "    .dataframe tbody tr th {\n",
       "        vertical-align: top;\n",
       "    }\n",
       "\n",
       "    .dataframe thead th {\n",
       "        text-align: right;\n",
       "    }\n",
       "</style>\n",
       "<table border=\"1\" class=\"dataframe\">\n",
       "  <thead>\n",
       "    <tr style=\"text-align: right;\">\n",
       "      <th></th>\n",
       "      <th>0</th>\n",
       "      <th>1</th>\n",
       "      <th>2</th>\n",
       "      <th>3</th>\n",
       "    </tr>\n",
       "  </thead>\n",
       "  <tbody>\n",
       "    <tr>\n",
       "      <th>0</th>\n",
       "      <td>3</td>\n",
       "      <td>5</td>\n",
       "      <td>7</td>\n",
       "      <td>5</td>\n",
       "    </tr>\n",
       "    <tr>\n",
       "      <th>1</th>\n",
       "      <td>3</td>\n",
       "      <td>6</td>\n",
       "      <td>8</td>\n",
       "      <td>4</td>\n",
       "    </tr>\n",
       "    <tr>\n",
       "      <th>2</th>\n",
       "      <td>11</td>\n",
       "      <td>34</td>\n",
       "      <td>56</td>\n",
       "      <td>23</td>\n",
       "    </tr>\n",
       "  </tbody>\n",
       "</table>\n",
       "</div>"
      ],
      "text/plain": [
       "    0   1   2   3\n",
       "0   3   5   7   5\n",
       "1   3   6   8   4\n",
       "2  11  34  56  23"
      ]
     },
     "execution_count": 16,
     "metadata": {},
     "output_type": "execute_result"
    }
   ],
   "source": [
    "data=[[3,5,7,5],[3,6,8,4],[11,34,56,23]] \n",
    "df=pd.DataFrame(data)\n",
    "df"
   ]
  },
  {
   "cell_type": "markdown",
   "metadata": {},
   "source": [
    "## 列索引自定义\n",
    "> 自定义时索引不能有缺失数据，也不能超出总列数（既有几列就定义几个索引），自定义索引可以相同。"
   ]
  },
  {
   "cell_type": "code",
   "execution_count": 50,
   "metadata": {},
   "outputs": [
    {
     "data": {
      "text/html": [
       "<div>\n",
       "<style scoped>\n",
       "    .dataframe tbody tr th:only-of-type {\n",
       "        vertical-align: middle;\n",
       "    }\n",
       "\n",
       "    .dataframe tbody tr th {\n",
       "        vertical-align: top;\n",
       "    }\n",
       "\n",
       "    .dataframe thead th {\n",
       "        text-align: right;\n",
       "    }\n",
       "</style>\n",
       "<table border=\"1\" class=\"dataframe\">\n",
       "  <thead>\n",
       "    <tr style=\"text-align: right;\">\n",
       "      <th></th>\n",
       "      <th>A</th>\n",
       "      <th>B</th>\n",
       "      <th>C</th>\n",
       "      <th>年龄</th>\n",
       "    </tr>\n",
       "  </thead>\n",
       "  <tbody>\n",
       "    <tr>\n",
       "      <th>0</th>\n",
       "      <td>3</td>\n",
       "      <td>5</td>\n",
       "      <td>7</td>\n",
       "      <td>5</td>\n",
       "    </tr>\n",
       "    <tr>\n",
       "      <th>1</th>\n",
       "      <td>3</td>\n",
       "      <td>6</td>\n",
       "      <td>8</td>\n",
       "      <td>4</td>\n",
       "    </tr>\n",
       "    <tr>\n",
       "      <th>2</th>\n",
       "      <td>11</td>\n",
       "      <td>34</td>\n",
       "      <td>56</td>\n",
       "      <td>23</td>\n",
       "    </tr>\n",
       "  </tbody>\n",
       "</table>\n",
       "</div>"
      ],
      "text/plain": [
       "    A   B   C  年龄\n",
       "0   3   5   7   5\n",
       "1   3   6   8   4\n",
       "2  11  34  56  23"
      ]
     },
     "execution_count": 50,
     "metadata": {},
     "output_type": "execute_result"
    }
   ],
   "source": [
    "data=[[3,5,7,5],[3,6,8,4],[11,34,56,23]] \n",
    "list=['A','B','C','年龄']\n",
    "df=pd.DataFrame(data,columns=list)\n",
    "df"
   ]
  },
  {
   "cell_type": "markdown",
   "metadata": {
    "toc-hr-collapsed": false
   },
   "source": [
    "## 行索引自定义\n",
    "> 方法与列索引自定义类似，不能有缺失数据，也不能超出总行数（既有几行就定义几个索引），推荐使用默认的数字索引。"
   ]
  },
  {
   "cell_type": "code",
   "execution_count": 51,
   "metadata": {},
   "outputs": [
    {
     "data": {
      "text/html": [
       "<div>\n",
       "<style scoped>\n",
       "    .dataframe tbody tr th:only-of-type {\n",
       "        vertical-align: middle;\n",
       "    }\n",
       "\n",
       "    .dataframe tbody tr th {\n",
       "        vertical-align: top;\n",
       "    }\n",
       "\n",
       "    .dataframe thead th {\n",
       "        text-align: right;\n",
       "    }\n",
       "</style>\n",
       "<table border=\"1\" class=\"dataframe\">\n",
       "  <thead>\n",
       "    <tr style=\"text-align: right;\">\n",
       "      <th></th>\n",
       "      <th>0</th>\n",
       "      <th>1</th>\n",
       "      <th>2</th>\n",
       "      <th>3</th>\n",
       "    </tr>\n",
       "  </thead>\n",
       "  <tbody>\n",
       "    <tr>\n",
       "      <th>A</th>\n",
       "      <td>3</td>\n",
       "      <td>5</td>\n",
       "      <td>7</td>\n",
       "      <td>5</td>\n",
       "    </tr>\n",
       "    <tr>\n",
       "      <th>B</th>\n",
       "      <td>3</td>\n",
       "      <td>6</td>\n",
       "      <td>8</td>\n",
       "      <td>4</td>\n",
       "    </tr>\n",
       "    <tr>\n",
       "      <th>C</th>\n",
       "      <td>11</td>\n",
       "      <td>34</td>\n",
       "      <td>56</td>\n",
       "      <td>23</td>\n",
       "    </tr>\n",
       "  </tbody>\n",
       "</table>\n",
       "</div>"
      ],
      "text/plain": [
       "    0   1   2   3\n",
       "A   3   5   7   5\n",
       "B   3   6   8   4\n",
       "C  11  34  56  23"
      ]
     },
     "execution_count": 51,
     "metadata": {},
     "output_type": "execute_result"
    }
   ],
   "source": [
    "data=[[3,5,7,5],[3,6,8,4],[11,34,56,23]] \n",
    "list=['A','B','C']\n",
    "df=pd.DataFrame(data,index=list)\n",
    "df"
   ]
  },
  {
   "cell_type": "code",
   "execution_count": 82,
   "metadata": {},
   "outputs": [
    {
     "data": {
      "text/html": [
       "<div>\n",
       "<style scoped>\n",
       "    .dataframe tbody tr th:only-of-type {\n",
       "        vertical-align: middle;\n",
       "    }\n",
       "\n",
       "    .dataframe tbody tr th {\n",
       "        vertical-align: top;\n",
       "    }\n",
       "\n",
       "    .dataframe thead th {\n",
       "        text-align: right;\n",
       "    }\n",
       "</style>\n",
       "<table border=\"1\" class=\"dataframe\">\n",
       "  <thead>\n",
       "    <tr style=\"text-align: right;\">\n",
       "      <th></th>\n",
       "      <th>name</th>\n",
       "      <th>id</th>\n",
       "      <th>age</th>\n",
       "      <th>home</th>\n",
       "    </tr>\n",
       "  </thead>\n",
       "  <tbody>\n",
       "    <tr>\n",
       "      <th>A</th>\n",
       "      <td>3</td>\n",
       "      <td>5</td>\n",
       "      <td>7</td>\n",
       "      <td>5</td>\n",
       "    </tr>\n",
       "    <tr>\n",
       "      <th>B</th>\n",
       "      <td>3</td>\n",
       "      <td>6</td>\n",
       "      <td>8</td>\n",
       "      <td>4</td>\n",
       "    </tr>\n",
       "    <tr>\n",
       "      <th>C</th>\n",
       "      <td>11</td>\n",
       "      <td>34</td>\n",
       "      <td>56</td>\n",
       "      <td>23</td>\n",
       "    </tr>\n",
       "  </tbody>\n",
       "</table>\n",
       "</div>"
      ],
      "text/plain": [
       "   name  id  age  home\n",
       "A     3   5    7     5\n",
       "B     3   6    8     4\n",
       "C    11  34   56    23"
      ]
     },
     "execution_count": 82,
     "metadata": {},
     "output_type": "execute_result"
    }
   ],
   "source": [
    "data=[[3,5,7,5],[3,6,8,4],[11,34,56,23]] \n",
    "list1=['A','B','C']\n",
    "list2=['name','id','age','home']\n",
    "df=pd.DataFrame(data,index=list1,columns=list2)\n",
    "df"
   ]
  },
  {
   "cell_type": "markdown",
   "metadata": {
    "toc-hr-collapsed": false
   },
   "source": [
    "## 修改索引"
   ]
  },
  {
   "cell_type": "markdown",
   "metadata": {
    "toc-hr-collapsed": true
   },
   "source": [
    "### 修改行索引\n",
    ">- set_index()\n",
    ">- index_col='列名'，若读取外部数据时可直接使用\n",
    ">- df.rename(columns=,index=)"
   ]
  },
  {
   "cell_type": "code",
   "execution_count": 18,
   "metadata": {},
   "outputs": [
    {
     "data": {
      "text/html": [
       "<div>\n",
       "<style scoped>\n",
       "    .dataframe tbody tr th:only-of-type {\n",
       "        vertical-align: middle;\n",
       "    }\n",
       "\n",
       "    .dataframe tbody tr th {\n",
       "        vertical-align: top;\n",
       "    }\n",
       "\n",
       "    .dataframe thead th {\n",
       "        text-align: right;\n",
       "    }\n",
       "</style>\n",
       "<table border=\"1\" class=\"dataframe\">\n",
       "  <thead>\n",
       "    <tr style=\"text-align: right;\">\n",
       "      <th></th>\n",
       "      <th>班级</th>\n",
       "      <th>学期</th>\n",
       "      <th>姓名</th>\n",
       "      <th>分数</th>\n",
       "      <th>科目</th>\n",
       "    </tr>\n",
       "  </thead>\n",
       "  <tbody>\n",
       "    <tr>\n",
       "      <th>0</th>\n",
       "      <td>17汽车</td>\n",
       "      <td>201704</td>\n",
       "      <td>熊洪林</td>\n",
       "      <td>76.3</td>\n",
       "      <td>哲学与人生</td>\n",
       "    </tr>\n",
       "    <tr>\n",
       "      <th>1</th>\n",
       "      <td>17汽车</td>\n",
       "      <td>201704</td>\n",
       "      <td>王索</td>\n",
       "      <td>及格</td>\n",
       "      <td>哲学与人生</td>\n",
       "    </tr>\n",
       "    <tr>\n",
       "      <th>2</th>\n",
       "      <td>17汽车</td>\n",
       "      <td>201704</td>\n",
       "      <td>梁诚</td>\n",
       "      <td>68.6</td>\n",
       "      <td>哲学与人生</td>\n",
       "    </tr>\n",
       "    <tr>\n",
       "      <th>3</th>\n",
       "      <td>17汽车</td>\n",
       "      <td>201704</td>\n",
       "      <td>徐雨志超</td>\n",
       "      <td>NaN</td>\n",
       "      <td>哲学与人生</td>\n",
       "    </tr>\n",
       "    <tr>\n",
       "      <th>4</th>\n",
       "      <td>17汽车</td>\n",
       "      <td>201704</td>\n",
       "      <td>林斌</td>\n",
       "      <td>70.6</td>\n",
       "      <td>哲学与人生</td>\n",
       "    </tr>\n",
       "    <tr>\n",
       "      <th>5</th>\n",
       "      <td>17汽车</td>\n",
       "      <td>201704</td>\n",
       "      <td>陈林峰</td>\n",
       "      <td>66.8</td>\n",
       "      <td>哲学与人生</td>\n",
       "    </tr>\n",
       "  </tbody>\n",
       "</table>\n",
       "</div>"
      ],
      "text/plain": [
       "     班级      学期    姓名    分数     科目\n",
       "0  17汽车  201704   熊洪林  76.3  哲学与人生\n",
       "1  17汽车  201704    王索    及格  哲学与人生\n",
       "2  17汽车  201704    梁诚  68.6  哲学与人生\n",
       "3  17汽车  201704  徐雨志超   NaN  哲学与人生\n",
       "4  17汽车  201704    林斌  70.6  哲学与人生\n",
       "5  17汽车  201704   陈林峰  66.8  哲学与人生"
      ]
     },
     "execution_count": 18,
     "metadata": {},
     "output_type": "execute_result"
    }
   ],
   "source": [
    "df=pd.read_excel('demo.xlsx')\n",
    "df #修改原先的默认数字索引"
   ]
  },
  {
   "cell_type": "code",
   "execution_count": 28,
   "metadata": {},
   "outputs": [
    {
     "data": {
      "text/html": [
       "<div>\n",
       "<style scoped>\n",
       "    .dataframe tbody tr th:only-of-type {\n",
       "        vertical-align: middle;\n",
       "    }\n",
       "\n",
       "    .dataframe tbody tr th {\n",
       "        vertical-align: top;\n",
       "    }\n",
       "\n",
       "    .dataframe thead th {\n",
       "        text-align: right;\n",
       "    }\n",
       "</style>\n",
       "<table border=\"1\" class=\"dataframe\">\n",
       "  <thead>\n",
       "    <tr style=\"text-align: right;\">\n",
       "      <th></th>\n",
       "      <th>学期</th>\n",
       "      <th>姓名</th>\n",
       "      <th>分数</th>\n",
       "      <th>科目</th>\n",
       "    </tr>\n",
       "    <tr>\n",
       "      <th>班级</th>\n",
       "      <th></th>\n",
       "      <th></th>\n",
       "      <th></th>\n",
       "      <th></th>\n",
       "    </tr>\n",
       "  </thead>\n",
       "  <tbody>\n",
       "    <tr>\n",
       "      <th>17汽车</th>\n",
       "      <td>201704</td>\n",
       "      <td>熊洪林</td>\n",
       "      <td>76.3</td>\n",
       "      <td>哲学与人生</td>\n",
       "    </tr>\n",
       "    <tr>\n",
       "      <th>17汽车</th>\n",
       "      <td>201704</td>\n",
       "      <td>王索</td>\n",
       "      <td>及格</td>\n",
       "      <td>哲学与人生</td>\n",
       "    </tr>\n",
       "    <tr>\n",
       "      <th>17汽车</th>\n",
       "      <td>201704</td>\n",
       "      <td>梁诚</td>\n",
       "      <td>68.6</td>\n",
       "      <td>哲学与人生</td>\n",
       "    </tr>\n",
       "    <tr>\n",
       "      <th>17汽车</th>\n",
       "      <td>201704</td>\n",
       "      <td>徐雨志超</td>\n",
       "      <td>NaN</td>\n",
       "      <td>哲学与人生</td>\n",
       "    </tr>\n",
       "    <tr>\n",
       "      <th>17汽车</th>\n",
       "      <td>201704</td>\n",
       "      <td>林斌</td>\n",
       "      <td>70.6</td>\n",
       "      <td>哲学与人生</td>\n",
       "    </tr>\n",
       "    <tr>\n",
       "      <th>17汽车</th>\n",
       "      <td>201704</td>\n",
       "      <td>陈林峰</td>\n",
       "      <td>66.8</td>\n",
       "      <td>哲学与人生</td>\n",
       "    </tr>\n",
       "  </tbody>\n",
       "</table>\n",
       "</div>"
      ],
      "text/plain": [
       "          学期    姓名    分数     科目\n",
       "班级                             \n",
       "17汽车  201704   熊洪林  76.3  哲学与人生\n",
       "17汽车  201704    王索    及格  哲学与人生\n",
       "17汽车  201704    梁诚  68.6  哲学与人生\n",
       "17汽车  201704  徐雨志超   NaN  哲学与人生\n",
       "17汽车  201704    林斌  70.6  哲学与人生\n",
       "17汽车  201704   陈林峰  66.8  哲学与人生"
      ]
     },
     "execution_count": 28,
     "metadata": {},
     "output_type": "execute_result"
    }
   ],
   "source": [
    "df=pd.read_excel('demo.xlsx')#把班级作为行索引\n",
    "df=df.set_index('班级') \n",
    "df"
   ]
  },
  {
   "cell_type": "code",
   "execution_count": 23,
   "metadata": {},
   "outputs": [
    {
     "data": {
      "text/html": [
       "<div>\n",
       "<style scoped>\n",
       "    .dataframe tbody tr th:only-of-type {\n",
       "        vertical-align: middle;\n",
       "    }\n",
       "\n",
       "    .dataframe tbody tr th {\n",
       "        vertical-align: top;\n",
       "    }\n",
       "\n",
       "    .dataframe thead th {\n",
       "        text-align: right;\n",
       "    }\n",
       "</style>\n",
       "<table border=\"1\" class=\"dataframe\">\n",
       "  <thead>\n",
       "    <tr style=\"text-align: right;\">\n",
       "      <th></th>\n",
       "      <th>学期</th>\n",
       "      <th>姓名</th>\n",
       "      <th>分数</th>\n",
       "      <th>科目</th>\n",
       "    </tr>\n",
       "    <tr>\n",
       "      <th>班级</th>\n",
       "      <th></th>\n",
       "      <th></th>\n",
       "      <th></th>\n",
       "      <th></th>\n",
       "    </tr>\n",
       "  </thead>\n",
       "  <tbody>\n",
       "    <tr>\n",
       "      <th>17汽车</th>\n",
       "      <td>201704</td>\n",
       "      <td>熊洪林</td>\n",
       "      <td>76.3</td>\n",
       "      <td>哲学与人生</td>\n",
       "    </tr>\n",
       "    <tr>\n",
       "      <th>17汽车</th>\n",
       "      <td>201704</td>\n",
       "      <td>王索</td>\n",
       "      <td>及格</td>\n",
       "      <td>哲学与人生</td>\n",
       "    </tr>\n",
       "    <tr>\n",
       "      <th>17汽车</th>\n",
       "      <td>201704</td>\n",
       "      <td>梁诚</td>\n",
       "      <td>68.6</td>\n",
       "      <td>哲学与人生</td>\n",
       "    </tr>\n",
       "    <tr>\n",
       "      <th>17汽车</th>\n",
       "      <td>201704</td>\n",
       "      <td>徐雨志超</td>\n",
       "      <td>NaN</td>\n",
       "      <td>哲学与人生</td>\n",
       "    </tr>\n",
       "    <tr>\n",
       "      <th>17汽车</th>\n",
       "      <td>201704</td>\n",
       "      <td>林斌</td>\n",
       "      <td>70.6</td>\n",
       "      <td>哲学与人生</td>\n",
       "    </tr>\n",
       "    <tr>\n",
       "      <th>17汽车</th>\n",
       "      <td>201704</td>\n",
       "      <td>陈林峰</td>\n",
       "      <td>66.8</td>\n",
       "      <td>哲学与人生</td>\n",
       "    </tr>\n",
       "  </tbody>\n",
       "</table>\n",
       "</div>"
      ],
      "text/plain": [
       "          学期    姓名    分数     科目\n",
       "班级                             \n",
       "17汽车  201704   熊洪林  76.3  哲学与人生\n",
       "17汽车  201704    王索    及格  哲学与人生\n",
       "17汽车  201704    梁诚  68.6  哲学与人生\n",
       "17汽车  201704  徐雨志超   NaN  哲学与人生\n",
       "17汽车  201704    林斌  70.6  哲学与人生\n",
       "17汽车  201704   陈林峰  66.8  哲学与人生"
      ]
     },
     "execution_count": 23,
     "metadata": {},
     "output_type": "execute_result"
    }
   ],
   "source": [
    "df=pd.read_excel('demo.xlsx')#把班级作为行索引\n",
    "df.set_index('班级',inplace=True) #也可以直接添加inplace=true,来修改源数据，这样就不需要再次赋值了\n",
    "df"
   ]
  },
  {
   "cell_type": "code",
   "execution_count": 26,
   "metadata": {},
   "outputs": [
    {
     "data": {
      "text/html": [
       "<div>\n",
       "<style scoped>\n",
       "    .dataframe tbody tr th:only-of-type {\n",
       "        vertical-align: middle;\n",
       "    }\n",
       "\n",
       "    .dataframe tbody tr th {\n",
       "        vertical-align: top;\n",
       "    }\n",
       "\n",
       "    .dataframe thead th {\n",
       "        text-align: right;\n",
       "    }\n",
       "</style>\n",
       "<table border=\"1\" class=\"dataframe\">\n",
       "  <thead>\n",
       "    <tr style=\"text-align: right;\">\n",
       "      <th></th>\n",
       "      <th>班级</th>\n",
       "      <th>学期</th>\n",
       "      <th>姓名</th>\n",
       "      <th>分数</th>\n",
       "      <th>科目</th>\n",
       "    </tr>\n",
       "  </thead>\n",
       "  <tbody>\n",
       "    <tr>\n",
       "      <th>2</th>\n",
       "      <td>17汽车</td>\n",
       "      <td>201704</td>\n",
       "      <td>熊洪林</td>\n",
       "      <td>76.3</td>\n",
       "      <td>哲学与人生</td>\n",
       "    </tr>\n",
       "    <tr>\n",
       "      <th>4</th>\n",
       "      <td>17汽车</td>\n",
       "      <td>201704</td>\n",
       "      <td>王索</td>\n",
       "      <td>及格</td>\n",
       "      <td>哲学与人生</td>\n",
       "    </tr>\n",
       "    <tr>\n",
       "      <th>6</th>\n",
       "      <td>17汽车</td>\n",
       "      <td>201704</td>\n",
       "      <td>梁诚</td>\n",
       "      <td>68.6</td>\n",
       "      <td>哲学与人生</td>\n",
       "    </tr>\n",
       "    <tr>\n",
       "      <th>8</th>\n",
       "      <td>17汽车</td>\n",
       "      <td>201704</td>\n",
       "      <td>徐雨志超</td>\n",
       "      <td>NaN</td>\n",
       "      <td>哲学与人生</td>\n",
       "    </tr>\n",
       "    <tr>\n",
       "      <th>10</th>\n",
       "      <td>17汽车</td>\n",
       "      <td>201704</td>\n",
       "      <td>林斌</td>\n",
       "      <td>70.6</td>\n",
       "      <td>哲学与人生</td>\n",
       "    </tr>\n",
       "    <tr>\n",
       "      <th>12</th>\n",
       "      <td>17汽车</td>\n",
       "      <td>201704</td>\n",
       "      <td>陈林峰</td>\n",
       "      <td>66.8</td>\n",
       "      <td>哲学与人生</td>\n",
       "    </tr>\n",
       "  </tbody>\n",
       "</table>\n",
       "</div>"
      ],
      "text/plain": [
       "      班级      学期    姓名    分数     科目\n",
       "2   17汽车  201704   熊洪林  76.3  哲学与人生\n",
       "4   17汽车  201704    王索    及格  哲学与人生\n",
       "6   17汽车  201704    梁诚  68.6  哲学与人生\n",
       "8   17汽车  201704  徐雨志超   NaN  哲学与人生\n",
       "10  17汽车  201704    林斌  70.6  哲学与人生\n",
       "12  17汽车  201704   陈林峰  66.8  哲学与人生"
      ]
     },
     "execution_count": 26,
     "metadata": {},
     "output_type": "execute_result"
    }
   ],
   "source": [
    "df=pd.read_excel('demo.xlsx') #行索引修改成其他\n",
    "list=np.arange(2,14,2)\n",
    "df.set_index(list,inplace=True) #也可以直接添加inplace=true,来修改源数据，这样就不需要再次赋值了\n",
    "df"
   ]
  },
  {
   "cell_type": "code",
   "execution_count": 30,
   "metadata": {},
   "outputs": [
    {
     "data": {
      "text/html": [
       "<div>\n",
       "<style scoped>\n",
       "    .dataframe tbody tr th:only-of-type {\n",
       "        vertical-align: middle;\n",
       "    }\n",
       "\n",
       "    .dataframe tbody tr th {\n",
       "        vertical-align: top;\n",
       "    }\n",
       "\n",
       "    .dataframe thead th {\n",
       "        text-align: right;\n",
       "    }\n",
       "</style>\n",
       "<table border=\"1\" class=\"dataframe\">\n",
       "  <thead>\n",
       "    <tr style=\"text-align: right;\">\n",
       "      <th></th>\n",
       "      <th>学期</th>\n",
       "      <th>姓名</th>\n",
       "      <th>分数</th>\n",
       "      <th>科目</th>\n",
       "    </tr>\n",
       "    <tr>\n",
       "      <th>班级</th>\n",
       "      <th></th>\n",
       "      <th></th>\n",
       "      <th></th>\n",
       "      <th></th>\n",
       "    </tr>\n",
       "  </thead>\n",
       "  <tbody>\n",
       "    <tr>\n",
       "      <th>17汽车</th>\n",
       "      <td>201704</td>\n",
       "      <td>熊洪林</td>\n",
       "      <td>76.3</td>\n",
       "      <td>哲学与人生</td>\n",
       "    </tr>\n",
       "    <tr>\n",
       "      <th>17汽车</th>\n",
       "      <td>201704</td>\n",
       "      <td>王索</td>\n",
       "      <td>及格</td>\n",
       "      <td>哲学与人生</td>\n",
       "    </tr>\n",
       "    <tr>\n",
       "      <th>17汽车</th>\n",
       "      <td>201704</td>\n",
       "      <td>梁诚</td>\n",
       "      <td>68.6</td>\n",
       "      <td>哲学与人生</td>\n",
       "    </tr>\n",
       "    <tr>\n",
       "      <th>17汽车</th>\n",
       "      <td>201704</td>\n",
       "      <td>徐雨志超</td>\n",
       "      <td>NaN</td>\n",
       "      <td>哲学与人生</td>\n",
       "    </tr>\n",
       "    <tr>\n",
       "      <th>17汽车</th>\n",
       "      <td>201704</td>\n",
       "      <td>林斌</td>\n",
       "      <td>70.6</td>\n",
       "      <td>哲学与人生</td>\n",
       "    </tr>\n",
       "    <tr>\n",
       "      <th>17汽车</th>\n",
       "      <td>201704</td>\n",
       "      <td>陈林峰</td>\n",
       "      <td>66.8</td>\n",
       "      <td>哲学与人生</td>\n",
       "    </tr>\n",
       "  </tbody>\n",
       "</table>\n",
       "</div>"
      ],
      "text/plain": [
       "          学期    姓名    分数     科目\n",
       "班级                             \n",
       "17汽车  201704   熊洪林  76.3  哲学与人生\n",
       "17汽车  201704    王索    及格  哲学与人生\n",
       "17汽车  201704    梁诚  68.6  哲学与人生\n",
       "17汽车  201704  徐雨志超   NaN  哲学与人生\n",
       "17汽车  201704    林斌  70.6  哲学与人生\n",
       "17汽车  201704   陈林峰  66.8  哲学与人生"
      ]
     },
     "execution_count": 30,
     "metadata": {},
     "output_type": "execute_result"
    }
   ],
   "source": [
    "df=pd.read_excel('demo.xlsx',index_col='班级') #若是读取外部数据时，直接指定外部数据列为行索引\n",
    "df"
   ]
  },
  {
   "cell_type": "code",
   "execution_count": 37,
   "metadata": {},
   "outputs": [
    {
     "data": {
      "text/html": [
       "<div>\n",
       "<style scoped>\n",
       "    .dataframe tbody tr th:only-of-type {\n",
       "        vertical-align: middle;\n",
       "    }\n",
       "\n",
       "    .dataframe tbody tr th {\n",
       "        vertical-align: top;\n",
       "    }\n",
       "\n",
       "    .dataframe thead th {\n",
       "        text-align: right;\n",
       "    }\n",
       "</style>\n",
       "<table border=\"1\" class=\"dataframe\">\n",
       "  <thead>\n",
       "    <tr style=\"text-align: right;\">\n",
       "      <th></th>\n",
       "      <th>班级</th>\n",
       "      <th>学期</th>\n",
       "      <th>姓名</th>\n",
       "      <th>分数</th>\n",
       "      <th>科目</th>\n",
       "    </tr>\n",
       "  </thead>\n",
       "  <tbody>\n",
       "    <tr>\n",
       "      <th>0</th>\n",
       "      <td>17汽车</td>\n",
       "      <td>201704</td>\n",
       "      <td>熊洪林</td>\n",
       "      <td>76.3</td>\n",
       "      <td>哲学与人生</td>\n",
       "    </tr>\n",
       "    <tr>\n",
       "      <th>1</th>\n",
       "      <td>17汽车</td>\n",
       "      <td>201704</td>\n",
       "      <td>王索</td>\n",
       "      <td>及格</td>\n",
       "      <td>哲学与人生</td>\n",
       "    </tr>\n",
       "    <tr>\n",
       "      <th>2</th>\n",
       "      <td>17汽车</td>\n",
       "      <td>201704</td>\n",
       "      <td>梁诚</td>\n",
       "      <td>68.6</td>\n",
       "      <td>哲学与人生</td>\n",
       "    </tr>\n",
       "    <tr>\n",
       "      <th>3</th>\n",
       "      <td>17汽车</td>\n",
       "      <td>201704</td>\n",
       "      <td>徐雨志超</td>\n",
       "      <td>NaN</td>\n",
       "      <td>哲学与人生</td>\n",
       "    </tr>\n",
       "    <tr>\n",
       "      <th>4</th>\n",
       "      <td>17汽车</td>\n",
       "      <td>201704</td>\n",
       "      <td>林斌</td>\n",
       "      <td>70.6</td>\n",
       "      <td>哲学与人生</td>\n",
       "    </tr>\n",
       "    <tr>\n",
       "      <th>5</th>\n",
       "      <td>17汽车</td>\n",
       "      <td>201704</td>\n",
       "      <td>陈林峰</td>\n",
       "      <td>66.8</td>\n",
       "      <td>哲学与人生</td>\n",
       "    </tr>\n",
       "  </tbody>\n",
       "</table>\n",
       "</div>"
      ],
      "text/plain": [
       "     班级      学期    姓名    分数     科目\n",
       "0  17汽车  201704   熊洪林  76.3  哲学与人生\n",
       "1  17汽车  201704    王索    及格  哲学与人生\n",
       "2  17汽车  201704    梁诚  68.6  哲学与人生\n",
       "3  17汽车  201704  徐雨志超   NaN  哲学与人生\n",
       "4  17汽车  201704    林斌  70.6  哲学与人生\n",
       "5  17汽车  201704   陈林峰  66.8  哲学与人生"
      ]
     },
     "execution_count": 37,
     "metadata": {},
     "output_type": "execute_result"
    }
   ],
   "source": [
    "df=pd.read_excel('demo.xlsx')\n",
    "\n",
    "df"
   ]
  },
  {
   "cell_type": "markdown",
   "metadata": {},
   "source": [
    "### 修改列索引\n",
    ">- df.rename(columns=,index=)"
   ]
  },
  {
   "cell_type": "code",
   "execution_count": 40,
   "metadata": {},
   "outputs": [
    {
     "data": {
      "text/html": [
       "<div>\n",
       "<style scoped>\n",
       "    .dataframe tbody tr th:only-of-type {\n",
       "        vertical-align: middle;\n",
       "    }\n",
       "\n",
       "    .dataframe tbody tr th {\n",
       "        vertical-align: top;\n",
       "    }\n",
       "\n",
       "    .dataframe thead th {\n",
       "        text-align: right;\n",
       "    }\n",
       "</style>\n",
       "<table border=\"1\" class=\"dataframe\">\n",
       "  <thead>\n",
       "    <tr style=\"text-align: right;\">\n",
       "      <th></th>\n",
       "      <th>班级</th>\n",
       "      <th>学期</th>\n",
       "      <th>姓名</th>\n",
       "      <th>分数</th>\n",
       "      <th>科目</th>\n",
       "    </tr>\n",
       "  </thead>\n",
       "  <tbody>\n",
       "    <tr>\n",
       "      <th>0</th>\n",
       "      <td>17汽车</td>\n",
       "      <td>201704</td>\n",
       "      <td>熊洪林</td>\n",
       "      <td>76.3</td>\n",
       "      <td>哲学与人生</td>\n",
       "    </tr>\n",
       "    <tr>\n",
       "      <th>1</th>\n",
       "      <td>17汽车</td>\n",
       "      <td>201704</td>\n",
       "      <td>王索</td>\n",
       "      <td>及格</td>\n",
       "      <td>哲学与人生</td>\n",
       "    </tr>\n",
       "    <tr>\n",
       "      <th>A</th>\n",
       "      <td>17汽车</td>\n",
       "      <td>201704</td>\n",
       "      <td>梁诚</td>\n",
       "      <td>68.6</td>\n",
       "      <td>哲学与人生</td>\n",
       "    </tr>\n",
       "    <tr>\n",
       "      <th>B</th>\n",
       "      <td>17汽车</td>\n",
       "      <td>201704</td>\n",
       "      <td>徐雨志超</td>\n",
       "      <td>NaN</td>\n",
       "      <td>哲学与人生</td>\n",
       "    </tr>\n",
       "    <tr>\n",
       "      <th>4</th>\n",
       "      <td>17汽车</td>\n",
       "      <td>201704</td>\n",
       "      <td>林斌</td>\n",
       "      <td>70.6</td>\n",
       "      <td>哲学与人生</td>\n",
       "    </tr>\n",
       "    <tr>\n",
       "      <th>5</th>\n",
       "      <td>17汽车</td>\n",
       "      <td>201704</td>\n",
       "      <td>陈林峰</td>\n",
       "      <td>66.8</td>\n",
       "      <td>哲学与人生</td>\n",
       "    </tr>\n",
       "  </tbody>\n",
       "</table>\n",
       "</div>"
      ],
      "text/plain": [
       "     班级      学期    姓名    分数     科目\n",
       "0  17汽车  201704   熊洪林  76.3  哲学与人生\n",
       "1  17汽车  201704    王索    及格  哲学与人生\n",
       "A  17汽车  201704    梁诚  68.6  哲学与人生\n",
       "B  17汽车  201704  徐雨志超   NaN  哲学与人生\n",
       "4  17汽车  201704    林斌  70.6  哲学与人生\n",
       "5  17汽车  201704   陈林峰  66.8  哲学与人生"
      ]
     },
     "execution_count": 40,
     "metadata": {},
     "output_type": "execute_result"
    }
   ],
   "source": [
    "df=pd.read_excel('demo.xlsx') \n",
    "df.rename(index={2:'A',3:'B'},inplace=True)\n",
    "df"
   ]
  },
  {
   "cell_type": "code",
   "execution_count": 36,
   "metadata": {},
   "outputs": [
    {
     "data": {
      "text/html": [
       "<div>\n",
       "<style scoped>\n",
       "    .dataframe tbody tr th:only-of-type {\n",
       "        vertical-align: middle;\n",
       "    }\n",
       "\n",
       "    .dataframe tbody tr th {\n",
       "        vertical-align: top;\n",
       "    }\n",
       "\n",
       "    .dataframe thead th {\n",
       "        text-align: right;\n",
       "    }\n",
       "</style>\n",
       "<table border=\"1\" class=\"dataframe\">\n",
       "  <thead>\n",
       "    <tr style=\"text-align: right;\">\n",
       "      <th></th>\n",
       "      <th>A</th>\n",
       "      <th>学期</th>\n",
       "      <th>姓名</th>\n",
       "      <th>分数</th>\n",
       "      <th>科目</th>\n",
       "    </tr>\n",
       "  </thead>\n",
       "  <tbody>\n",
       "    <tr>\n",
       "      <th>0</th>\n",
       "      <td>17汽车</td>\n",
       "      <td>201704</td>\n",
       "      <td>熊洪林</td>\n",
       "      <td>76.3</td>\n",
       "      <td>哲学与人生</td>\n",
       "    </tr>\n",
       "    <tr>\n",
       "      <th>1</th>\n",
       "      <td>17汽车</td>\n",
       "      <td>201704</td>\n",
       "      <td>王索</td>\n",
       "      <td>及格</td>\n",
       "      <td>哲学与人生</td>\n",
       "    </tr>\n",
       "    <tr>\n",
       "      <th>2</th>\n",
       "      <td>17汽车</td>\n",
       "      <td>201704</td>\n",
       "      <td>梁诚</td>\n",
       "      <td>68.6</td>\n",
       "      <td>哲学与人生</td>\n",
       "    </tr>\n",
       "    <tr>\n",
       "      <th>3</th>\n",
       "      <td>17汽车</td>\n",
       "      <td>201704</td>\n",
       "      <td>徐雨志超</td>\n",
       "      <td>NaN</td>\n",
       "      <td>哲学与人生</td>\n",
       "    </tr>\n",
       "    <tr>\n",
       "      <th>4</th>\n",
       "      <td>17汽车</td>\n",
       "      <td>201704</td>\n",
       "      <td>林斌</td>\n",
       "      <td>70.6</td>\n",
       "      <td>哲学与人生</td>\n",
       "    </tr>\n",
       "    <tr>\n",
       "      <th>5</th>\n",
       "      <td>17汽车</td>\n",
       "      <td>201704</td>\n",
       "      <td>陈林峰</td>\n",
       "      <td>66.8</td>\n",
       "      <td>哲学与人生</td>\n",
       "    </tr>\n",
       "  </tbody>\n",
       "</table>\n",
       "</div>"
      ],
      "text/plain": [
       "      A      学期    姓名    分数     科目\n",
       "0  17汽车  201704   熊洪林  76.3  哲学与人生\n",
       "1  17汽车  201704    王索    及格  哲学与人生\n",
       "2  17汽车  201704    梁诚  68.6  哲学与人生\n",
       "3  17汽车  201704  徐雨志超   NaN  哲学与人生\n",
       "4  17汽车  201704    林斌  70.6  哲学与人生\n",
       "5  17汽车  201704   陈林峰  66.8  哲学与人生"
      ]
     },
     "execution_count": 36,
     "metadata": {},
     "output_type": "execute_result"
    }
   ],
   "source": [
    "df=pd.read_excel('demo.xlsx') \n",
    "df.rename(columns={'班级':'A'},inplace=True)\n",
    "df"
   ]
  },
  {
   "cell_type": "markdown",
   "metadata": {
    "toc-hr-collapsed": true
   },
   "source": [
    "# DataFram属性\n",
    ">- index，pd.index行索引\n",
    ">- columns，pd.columns列索引\n",
    ">- values，pd.values数据表\n",
    ">- shape，pd.shape维度，可以用于统计总行数和总列数\n",
    ">- dtypes，pd.dtypes,列数据类型"
   ]
  },
  {
   "cell_type": "code",
   "execution_count": 41,
   "metadata": {},
   "outputs": [
    {
     "name": "stdout",
     "output_type": "stream",
     "text": [
      "RangeIndex(start=0, stop=3, step=1)\n",
      "Index(['班级', '姓名', '分数'], dtype='object')\n",
      "[['18计算机' 'makr' 80]\n",
      " ['18计算机' 'You' 90]\n",
      " ['18计算机' 'Anat' '缺考']]\n",
      "班级    object\n",
      "姓名    object\n",
      "分数    object\n",
      "dtype: object\n"
     ]
    },
    {
     "data": {
      "text/plain": [
       "(3, 3)"
      ]
     },
     "execution_count": 41,
     "metadata": {},
     "output_type": "execute_result"
    }
   ],
   "source": [
    "data={\n",
    "    '班级':'18计算机',\n",
    "    '姓名':['makr','You','Anat'],\n",
    "    '分数':[80,90,'缺考']\n",
    "}\n",
    "df=pd.DataFrame(data)\n",
    "print(df.index)#行索引\n",
    "print(df.columns)#列索引\n",
    "print(df.values)#数据值\n",
    "print(df.dtypes)#列的数据类型\n",
    "df.shape#统计行数和列数"
   ]
  },
  {
   "cell_type": "markdown",
   "metadata": {
    "toc-hr-collapsed": false
   },
   "source": [
    "# 查找列/行\n"
   ]
  },
  {
   "cell_type": "markdown",
   "metadata": {},
   "source": [
    "## 查找单列\n",
    ">- 单列：df.自定义列索引  或 df[ '自定义列索引' ] 或 df[ int ]（默认数字索引时只能用 df [ int ]）\n",
    "\n",
    "全部列：df 或df.values"
   ]
  },
  {
   "cell_type": "code",
   "execution_count": 83,
   "metadata": {},
   "outputs": [
    {
     "data": {
      "text/plain": [
       "0    makr\n",
       "1     You\n",
       "2    Anat\n",
       "Name: 姓名, dtype: object"
      ]
     },
     "execution_count": 83,
     "metadata": {},
     "output_type": "execute_result"
    }
   ],
   "source": [
    "data={\n",
    "    '班级':'18计算机',\n",
    "    '姓名':['makr','You','Anat'],\n",
    "    '分数':[80,90,'缺考']\n",
    "}\n",
    "df=pd.DataFrame(data)\n",
    "df.姓名 #单列"
   ]
  },
  {
   "cell_type": "code",
   "execution_count": 91,
   "metadata": {},
   "outputs": [
    {
     "data": {
      "text/plain": [
       "0    makr\n",
       "1     You\n",
       "2    Anat\n",
       "Name: 姓名, dtype: object"
      ]
     },
     "execution_count": 91,
     "metadata": {},
     "output_type": "execute_result"
    }
   ],
   "source": [
    "data={\n",
    "    '班级':'18计算机',\n",
    "    '姓名':['makr','You','Anat'],\n",
    "    '分数':[80,90,'缺考']\n",
    "}\n",
    "df=pd.DataFrame(data)\n",
    "df['姓名'] #单列"
   ]
  },
  {
   "cell_type": "code",
   "execution_count": 114,
   "metadata": {},
   "outputs": [
    {
     "data": {
      "text/plain": [
       "0     5\n",
       "1     6\n",
       "2    34\n",
       "Name: 1, dtype: int64"
      ]
     },
     "execution_count": 114,
     "metadata": {},
     "output_type": "execute_result"
    }
   ],
   "source": [
    "data=[[3,5,7,5],[3,6,8,4],[11,34,56,23]] \n",
    "df=pd.DataFrame(data)\n",
    "df[1] #默认数字索引时只能用 df[int]"
   ]
  },
  {
   "cell_type": "markdown",
   "metadata": {},
   "source": [
    "## 查找多列\n",
    ">- 多列：df [ [ '自定义列索引','自定义列索引',... ] ],\n",
    ">- 若是默认数字索引列，df [ [ int1 , int2, ... ] ]不能用切片"
   ]
  },
  {
   "cell_type": "code",
   "execution_count": 55,
   "metadata": {},
   "outputs": [
    {
     "name": "stdout",
     "output_type": "stream",
     "text": [
      "      班级    姓名\n",
      "0  18计算机  makr\n",
      "1  18计算机   You\n",
      "2  18计算机  Anat\n"
     ]
    }
   ],
   "source": [
    "data={\n",
    "    '班级':'18计算机',\n",
    "    '姓名':['makr','You','Anat'],\n",
    "    '分数':[80,90,'缺考']\n",
    "}\n",
    "df=pd.DataFrame(data)\n",
    "print(df[['班级','姓名']]) #多列df[[列索引，列索引...]]"
   ]
  },
  {
   "cell_type": "code",
   "execution_count": 103,
   "metadata": {},
   "outputs": [
    {
     "data": {
      "text/html": [
       "<div>\n",
       "<style scoped>\n",
       "    .dataframe tbody tr th:only-of-type {\n",
       "        vertical-align: middle;\n",
       "    }\n",
       "\n",
       "    .dataframe tbody tr th {\n",
       "        vertical-align: top;\n",
       "    }\n",
       "\n",
       "    .dataframe thead th {\n",
       "        text-align: right;\n",
       "    }\n",
       "</style>\n",
       "<table border=\"1\" class=\"dataframe\">\n",
       "  <thead>\n",
       "    <tr style=\"text-align: right;\">\n",
       "      <th></th>\n",
       "      <th>0</th>\n",
       "      <th>1</th>\n",
       "      <th>3</th>\n",
       "    </tr>\n",
       "  </thead>\n",
       "  <tbody>\n",
       "    <tr>\n",
       "      <th>0</th>\n",
       "      <td>3</td>\n",
       "      <td>5</td>\n",
       "      <td>5</td>\n",
       "    </tr>\n",
       "    <tr>\n",
       "      <th>1</th>\n",
       "      <td>3</td>\n",
       "      <td>6</td>\n",
       "      <td>4</td>\n",
       "    </tr>\n",
       "    <tr>\n",
       "      <th>2</th>\n",
       "      <td>11</td>\n",
       "      <td>34</td>\n",
       "      <td>23</td>\n",
       "    </tr>\n",
       "  </tbody>\n",
       "</table>\n",
       "</div>"
      ],
      "text/plain": [
       "    0   1   3\n",
       "0   3   5   5\n",
       "1   3   6   4\n",
       "2  11  34  23"
      ]
     },
     "execution_count": 103,
     "metadata": {},
     "output_type": "execute_result"
    }
   ],
   "source": [
    "data=[[3,5,7,5],[3,6,8,4],[11,34,56,23]] \n",
    "df=pd.DataFrame(data)\n",
    "df[[0,1,3]] #若是默认数字索引列，df [ [ int1 , int2, ... ] ]"
   ]
  },
  {
   "cell_type": "markdown",
   "metadata": {},
   "source": [
    "## 查找全部列\n",
    ">- df 或 df.values"
   ]
  },
  {
   "cell_type": "markdown",
   "metadata": {},
   "source": [
    "## 查找单行\n",
    "\n",
    ">- 单行(默认数字索引)：df[n]或 df.loc[n] 第n-1行 \n",
    ">- 特定值：df.loc[n,列索引] #第n-1行，班级列数据\n",
    "      df.loc[n,[列索引1,列索引2...]] #第n-1行，列索引1,列索引2数据\n",
    "      df.loc[n：m,[列索引1,列索引2...]] #第n-1行到第m-1行，列索引1,列索引2数据"
   ]
  },
  {
   "cell_type": "code",
   "execution_count": 105,
   "metadata": {},
   "outputs": [
    {
     "name": "stdout",
     "output_type": "stream",
     "text": [
      "      班级    姓名  分数\n",
      "0  18计算机  makr  80\n"
     ]
    }
   ],
   "source": [
    "data={\n",
    "    '班级':'18计算机',\n",
    "    '姓名':['makr','You','Anat'],\n",
    "    '分数':[80,90,'缺考']\n",
    "}\n",
    "df=pd.DataFrame(data)\n",
    "print(df[0:1]) #单行第1行"
   ]
  },
  {
   "cell_type": "code",
   "execution_count": 57,
   "metadata": {},
   "outputs": [
    {
     "name": "stdout",
     "output_type": "stream",
     "text": [
      "      班级   姓名  分数\n",
      "1  18计算机  You  90\n"
     ]
    }
   ],
   "source": [
    "data={\n",
    "    '班级':'18计算机',\n",
    "    '姓名':['makr','You','Anat'],\n",
    "    '分数':[80,90,'缺考']\n",
    "}\n",
    "df=pd.DataFrame(data)\n",
    "print(df[1:2]) #单行第2行"
   ]
  },
  {
   "cell_type": "markdown",
   "metadata": {},
   "source": [
    "## 查找多行\n",
    ">- 多行(默认数字索引)：df[n:m]第n-1行到第m-1行 ，切片方法前提是默认数字行索引。"
   ]
  },
  {
   "cell_type": "code",
   "execution_count": 58,
   "metadata": {},
   "outputs": [
    {
     "name": "stdout",
     "output_type": "stream",
     "text": [
      "      班级    姓名  分数\n",
      "0  18计算机  makr  80\n",
      "1  18计算机   You  90\n"
     ]
    }
   ],
   "source": [
    "data={\n",
    "    '班级':'18计算机',\n",
    "    '姓名':['makr','You','Anat'],\n",
    "    '分数':[80,90,'缺考']\n",
    "}\n",
    "df=pd.DataFrame(data)\n",
    "print(df[0:2]) #多行第1，2行"
   ]
  },
  {
   "cell_type": "markdown",
   "metadata": {
    "toc-hr-collapsed": true
   },
   "source": [
    "## loc函数查找行/列\n",
    ">- data.loc[index,'colum_names']，第一个参数是行索引(数字索引)，第二个参数为列索引（可选参数，默认为所有列标签）。<u>该函数不能只查找列</u>\n",
    ">- 可以查找具体的单元格,"
   ]
  },
  {
   "cell_type": "markdown",
   "metadata": {},
   "source": [
    "### loc查找单行、多行\n",
    ">- 可以查找单行,data.loc[index]，单个数字行索引（也可以是自定义行索引），\n",
    ">- 可以查找多行,data.loc[n:m]，切片只能是数字行索引"
   ]
  },
  {
   "cell_type": "code",
   "execution_count": 106,
   "metadata": {},
   "outputs": [
    {
     "name": "stdout",
     "output_type": "stream",
     "text": [
      "班级    18计算机\n",
      "姓名     makr\n",
      "分数       80\n",
      "Name: 0, dtype: object\n"
     ]
    }
   ],
   "source": [
    "data={\n",
    "    '班级':'18计算机',\n",
    "    '姓名':['makr','You','Anat'],\n",
    "    '分数':[80,90,'缺考']\n",
    "}\n",
    "df=pd.DataFrame(data)\n",
    "print(df.loc[0]) #单个数字行索引，单行"
   ]
  },
  {
   "cell_type": "code",
   "execution_count": 108,
   "metadata": {},
   "outputs": [
    {
     "data": {
      "text/plain": [
       "0    3\n",
       "1    6\n",
       "2    8\n",
       "3    4\n",
       "Name: B, dtype: int64"
      ]
     },
     "execution_count": 108,
     "metadata": {},
     "output_type": "execute_result"
    }
   ],
   "source": [
    "data=[[3,5,7,5],[3,6,8,4],[11,34,56,23]] \n",
    "list=['A','B','C']\n",
    "df=pd.DataFrame(data,index=list)\n",
    "df.loc['B'] #单个自定义行索引，单行"
   ]
  },
  {
   "cell_type": "code",
   "execution_count": 118,
   "metadata": {},
   "outputs": [
    {
     "data": {
      "text/html": [
       "<div>\n",
       "<style scoped>\n",
       "    .dataframe tbody tr th:only-of-type {\n",
       "        vertical-align: middle;\n",
       "    }\n",
       "\n",
       "    .dataframe tbody tr th {\n",
       "        vertical-align: top;\n",
       "    }\n",
       "\n",
       "    .dataframe thead th {\n",
       "        text-align: right;\n",
       "    }\n",
       "</style>\n",
       "<table border=\"1\" class=\"dataframe\">\n",
       "  <thead>\n",
       "    <tr style=\"text-align: right;\">\n",
       "      <th></th>\n",
       "      <th>0</th>\n",
       "      <th>1</th>\n",
       "      <th>2</th>\n",
       "      <th>3</th>\n",
       "    </tr>\n",
       "  </thead>\n",
       "  <tbody>\n",
       "    <tr>\n",
       "      <th>0</th>\n",
       "      <td>3</td>\n",
       "      <td>5</td>\n",
       "      <td>7</td>\n",
       "      <td>5</td>\n",
       "    </tr>\n",
       "    <tr>\n",
       "      <th>1</th>\n",
       "      <td>3</td>\n",
       "      <td>6</td>\n",
       "      <td>8</td>\n",
       "      <td>4</td>\n",
       "    </tr>\n",
       "    <tr>\n",
       "      <th>2</th>\n",
       "      <td>11</td>\n",
       "      <td>34</td>\n",
       "      <td>56</td>\n",
       "      <td>23</td>\n",
       "    </tr>\n",
       "  </tbody>\n",
       "</table>\n",
       "</div>"
      ],
      "text/plain": [
       "    0   1   2   3\n",
       "0   3   5   7   5\n",
       "1   3   6   8   4\n",
       "2  11  34  56  23"
      ]
     },
     "execution_count": 118,
     "metadata": {},
     "output_type": "execute_result"
    }
   ],
   "source": [
    "data=[[3,5,7,5],[3,6,8,4],[11,34,56,23]] \n",
    "df=pd.DataFrame(data)\n",
    "df.loc[0:3] #切片多行只能是数字行索引，多行"
   ]
  },
  {
   "cell_type": "markdown",
   "metadata": {},
   "source": [
    "### loc查找单元格"
   ]
  },
  {
   "cell_type": "code",
   "execution_count": 130,
   "metadata": {},
   "outputs": [
    {
     "data": {
      "text/plain": [
       "'makr'"
      ]
     },
     "execution_count": 130,
     "metadata": {},
     "output_type": "execute_result"
    }
   ],
   "source": [
    "data={\n",
    "    '班级':'18计算机',\n",
    "    '姓名':['makr','You','Anat'],\n",
    "    '分数':[80,90,'缺考']\n",
    "}\n",
    "df=pd.DataFrame(data)\n",
    "df.loc[0,'姓名'] #第1行，姓名列"
   ]
  },
  {
   "cell_type": "code",
   "execution_count": 137,
   "metadata": {},
   "outputs": [
    {
     "data": {
      "text/plain": [
       "班级    18计算机\n",
       "姓名     makr\n",
       "Name: 0, dtype: object"
      ]
     },
     "execution_count": 137,
     "metadata": {},
     "output_type": "execute_result"
    }
   ],
   "source": [
    "data={\n",
    "    '班级':'18计算机',\n",
    "    '姓名':['makr','You','Anat'],\n",
    "    '分数':[80,90,'缺考']\n",
    "}\n",
    "df=pd.DataFrame(data)\n",
    "df.loc[0,['班级','姓名']]#第1行，班级列、姓名列数据 "
   ]
  },
  {
   "cell_type": "code",
   "execution_count": 136,
   "metadata": {},
   "outputs": [
    {
     "data": {
      "text/html": [
       "<div>\n",
       "<style scoped>\n",
       "    .dataframe tbody tr th:only-of-type {\n",
       "        vertical-align: middle;\n",
       "    }\n",
       "\n",
       "    .dataframe tbody tr th {\n",
       "        vertical-align: top;\n",
       "    }\n",
       "\n",
       "    .dataframe thead th {\n",
       "        text-align: right;\n",
       "    }\n",
       "</style>\n",
       "<table border=\"1\" class=\"dataframe\">\n",
       "  <thead>\n",
       "    <tr style=\"text-align: right;\">\n",
       "      <th></th>\n",
       "      <th>班级</th>\n",
       "      <th>姓名</th>\n",
       "    </tr>\n",
       "  </thead>\n",
       "  <tbody>\n",
       "    <tr>\n",
       "      <th>0</th>\n",
       "      <td>18计算机</td>\n",
       "      <td>makr</td>\n",
       "    </tr>\n",
       "    <tr>\n",
       "      <th>1</th>\n",
       "      <td>18计算机</td>\n",
       "      <td>You</td>\n",
       "    </tr>\n",
       "    <tr>\n",
       "      <th>2</th>\n",
       "      <td>18计算机</td>\n",
       "      <td>Anat</td>\n",
       "    </tr>\n",
       "  </tbody>\n",
       "</table>\n",
       "</div>"
      ],
      "text/plain": [
       "      班级    姓名\n",
       "0  18计算机  makr\n",
       "1  18计算机   You\n",
       "2  18计算机  Anat"
      ]
     },
     "execution_count": 136,
     "metadata": {},
     "output_type": "execute_result"
    }
   ],
   "source": [
    "data={\n",
    "    '班级':'18计算机',\n",
    "    '姓名':['makr','You','Anat'],\n",
    "    '分数':[80,90,'缺考']\n",
    "}\n",
    "df=pd.DataFrame(data)\n",
    "df.loc[0:2,['班级','姓名']]#第1行到第3行，班级列、姓名列数据 "
   ]
  },
  {
   "cell_type": "markdown",
   "metadata": {
    "toc-hr-collapsed": false
   },
   "source": [
    "# 数据处理"
   ]
  },
  {
   "cell_type": "markdown",
   "metadata": {},
   "source": [
    "## 列、行从新排序\n",
    ">- reindex()"
   ]
  },
  {
   "cell_type": "code",
   "execution_count": 44,
   "metadata": {},
   "outputs": [
    {
     "data": {
      "text/html": [
       "<div>\n",
       "<style scoped>\n",
       "    .dataframe tbody tr th:only-of-type {\n",
       "        vertical-align: middle;\n",
       "    }\n",
       "\n",
       "    .dataframe tbody tr th {\n",
       "        vertical-align: top;\n",
       "    }\n",
       "\n",
       "    .dataframe thead th {\n",
       "        text-align: right;\n",
       "    }\n",
       "</style>\n",
       "<table border=\"1\" class=\"dataframe\">\n",
       "  <thead>\n",
       "    <tr style=\"text-align: right;\">\n",
       "      <th></th>\n",
       "      <th>班级</th>\n",
       "      <th>学期</th>\n",
       "      <th>姓名</th>\n",
       "      <th>分数</th>\n",
       "      <th>科目</th>\n",
       "    </tr>\n",
       "  </thead>\n",
       "  <tbody>\n",
       "    <tr>\n",
       "      <th>0</th>\n",
       "      <td>17汽车</td>\n",
       "      <td>201704</td>\n",
       "      <td>熊洪林</td>\n",
       "      <td>76.3</td>\n",
       "      <td>哲学与人生</td>\n",
       "    </tr>\n",
       "    <tr>\n",
       "      <th>1</th>\n",
       "      <td>17汽车</td>\n",
       "      <td>201704</td>\n",
       "      <td>王索</td>\n",
       "      <td>及格</td>\n",
       "      <td>哲学与人生</td>\n",
       "    </tr>\n",
       "    <tr>\n",
       "      <th>2</th>\n",
       "      <td>17汽车</td>\n",
       "      <td>201704</td>\n",
       "      <td>梁诚</td>\n",
       "      <td>68.6</td>\n",
       "      <td>哲学与人生</td>\n",
       "    </tr>\n",
       "    <tr>\n",
       "      <th>3</th>\n",
       "      <td>17汽车</td>\n",
       "      <td>201704</td>\n",
       "      <td>徐雨志超</td>\n",
       "      <td>NaN</td>\n",
       "      <td>哲学与人生</td>\n",
       "    </tr>\n",
       "    <tr>\n",
       "      <th>4</th>\n",
       "      <td>17汽车</td>\n",
       "      <td>201704</td>\n",
       "      <td>林斌</td>\n",
       "      <td>70.6</td>\n",
       "      <td>哲学与人生</td>\n",
       "    </tr>\n",
       "    <tr>\n",
       "      <th>5</th>\n",
       "      <td>17汽车</td>\n",
       "      <td>201704</td>\n",
       "      <td>陈林峰</td>\n",
       "      <td>66.8</td>\n",
       "      <td>哲学与人生</td>\n",
       "    </tr>\n",
       "  </tbody>\n",
       "</table>\n",
       "</div>"
      ],
      "text/plain": [
       "     班级      学期    姓名    分数     科目\n",
       "0  17汽车  201704   熊洪林  76.3  哲学与人生\n",
       "1  17汽车  201704    王索    及格  哲学与人生\n",
       "2  17汽车  201704    梁诚  68.6  哲学与人生\n",
       "3  17汽车  201704  徐雨志超   NaN  哲学与人生\n",
       "4  17汽车  201704    林斌  70.6  哲学与人生\n",
       "5  17汽车  201704   陈林峰  66.8  哲学与人生"
      ]
     },
     "execution_count": 44,
     "metadata": {},
     "output_type": "execute_result"
    }
   ],
   "source": [
    "df=pd.read_excel('demo.xlsx')\n",
    "df#默认的"
   ]
  },
  {
   "cell_type": "code",
   "execution_count": 51,
   "metadata": {},
   "outputs": [
    {
     "data": {
      "text/html": [
       "<div>\n",
       "<style scoped>\n",
       "    .dataframe tbody tr th:only-of-type {\n",
       "        vertical-align: middle;\n",
       "    }\n",
       "\n",
       "    .dataframe tbody tr th {\n",
       "        vertical-align: top;\n",
       "    }\n",
       "\n",
       "    .dataframe thead th {\n",
       "        text-align: right;\n",
       "    }\n",
       "</style>\n",
       "<table border=\"1\" class=\"dataframe\">\n",
       "  <thead>\n",
       "    <tr style=\"text-align: right;\">\n",
       "      <th></th>\n",
       "      <th>姓名</th>\n",
       "      <th>科目</th>\n",
       "      <th>分数</th>\n",
       "      <th>班级</th>\n",
       "      <th>学期</th>\n",
       "    </tr>\n",
       "  </thead>\n",
       "  <tbody>\n",
       "    <tr>\n",
       "      <th>0</th>\n",
       "      <td>熊洪林</td>\n",
       "      <td>哲学与人生</td>\n",
       "      <td>76.3</td>\n",
       "      <td>17汽车</td>\n",
       "      <td>201704</td>\n",
       "    </tr>\n",
       "    <tr>\n",
       "      <th>1</th>\n",
       "      <td>王索</td>\n",
       "      <td>哲学与人生</td>\n",
       "      <td>及格</td>\n",
       "      <td>17汽车</td>\n",
       "      <td>201704</td>\n",
       "    </tr>\n",
       "    <tr>\n",
       "      <th>2</th>\n",
       "      <td>梁诚</td>\n",
       "      <td>哲学与人生</td>\n",
       "      <td>68.6</td>\n",
       "      <td>17汽车</td>\n",
       "      <td>201704</td>\n",
       "    </tr>\n",
       "    <tr>\n",
       "      <th>3</th>\n",
       "      <td>徐雨志超</td>\n",
       "      <td>哲学与人生</td>\n",
       "      <td>NaN</td>\n",
       "      <td>17汽车</td>\n",
       "      <td>201704</td>\n",
       "    </tr>\n",
       "    <tr>\n",
       "      <th>4</th>\n",
       "      <td>林斌</td>\n",
       "      <td>哲学与人生</td>\n",
       "      <td>70.6</td>\n",
       "      <td>17汽车</td>\n",
       "      <td>201704</td>\n",
       "    </tr>\n",
       "    <tr>\n",
       "      <th>5</th>\n",
       "      <td>陈林峰</td>\n",
       "      <td>哲学与人生</td>\n",
       "      <td>66.8</td>\n",
       "      <td>17汽车</td>\n",
       "      <td>201704</td>\n",
       "    </tr>\n",
       "  </tbody>\n",
       "</table>\n",
       "</div>"
      ],
      "text/plain": [
       "     姓名     科目    分数    班级      学期\n",
       "0   熊洪林  哲学与人生  76.3  17汽车  201704\n",
       "1    王索  哲学与人生    及格  17汽车  201704\n",
       "2    梁诚  哲学与人生  68.6  17汽车  201704\n",
       "3  徐雨志超  哲学与人生   NaN  17汽车  201704\n",
       "4    林斌  哲学与人生  70.6  17汽车  201704\n",
       "5   陈林峰  哲学与人生  66.8  17汽车  201704"
      ]
     },
     "execution_count": 51,
     "metadata": {},
     "output_type": "execute_result"
    }
   ],
   "source": [
    "df=pd.read_excel('demo.xlsx')\n",
    "df=df.reindex(columns=['姓名','科目','分数','班级','学期'])\n",
    "df#对列从新排"
   ]
  },
  {
   "cell_type": "code",
   "execution_count": 56,
   "metadata": {},
   "outputs": [
    {
     "data": {
      "text/html": [
       "<div>\n",
       "<style scoped>\n",
       "    .dataframe tbody tr th:only-of-type {\n",
       "        vertical-align: middle;\n",
       "    }\n",
       "\n",
       "    .dataframe tbody tr th {\n",
       "        vertical-align: top;\n",
       "    }\n",
       "\n",
       "    .dataframe thead th {\n",
       "        text-align: right;\n",
       "    }\n",
       "</style>\n",
       "<table border=\"1\" class=\"dataframe\">\n",
       "  <thead>\n",
       "    <tr style=\"text-align: right;\">\n",
       "      <th></th>\n",
       "      <th>姓名</th>\n",
       "      <th>科目</th>\n",
       "      <th>分数</th>\n",
       "      <th>班级</th>\n",
       "      <th>学期</th>\n",
       "    </tr>\n",
       "  </thead>\n",
       "  <tbody>\n",
       "    <tr>\n",
       "      <th>1</th>\n",
       "      <td>王索</td>\n",
       "      <td>哲学与人生</td>\n",
       "      <td>及格</td>\n",
       "      <td>17汽车</td>\n",
       "      <td>201704</td>\n",
       "    </tr>\n",
       "    <tr>\n",
       "      <th>5</th>\n",
       "      <td>陈林峰</td>\n",
       "      <td>哲学与人生</td>\n",
       "      <td>66.8</td>\n",
       "      <td>17汽车</td>\n",
       "      <td>201704</td>\n",
       "    </tr>\n",
       "    <tr>\n",
       "      <th>0</th>\n",
       "      <td>熊洪林</td>\n",
       "      <td>哲学与人生</td>\n",
       "      <td>76.3</td>\n",
       "      <td>17汽车</td>\n",
       "      <td>201704</td>\n",
       "    </tr>\n",
       "    <tr>\n",
       "      <th>3</th>\n",
       "      <td>徐雨志超</td>\n",
       "      <td>哲学与人生</td>\n",
       "      <td>NaN</td>\n",
       "      <td>17汽车</td>\n",
       "      <td>201704</td>\n",
       "    </tr>\n",
       "    <tr>\n",
       "      <th>2</th>\n",
       "      <td>梁诚</td>\n",
       "      <td>哲学与人生</td>\n",
       "      <td>68.6</td>\n",
       "      <td>17汽车</td>\n",
       "      <td>201704</td>\n",
       "    </tr>\n",
       "    <tr>\n",
       "      <th>4</th>\n",
       "      <td>林斌</td>\n",
       "      <td>哲学与人生</td>\n",
       "      <td>70.6</td>\n",
       "      <td>17汽车</td>\n",
       "      <td>201704</td>\n",
       "    </tr>\n",
       "  </tbody>\n",
       "</table>\n",
       "</div>"
      ],
      "text/plain": [
       "     姓名     科目    分数    班级      学期\n",
       "1    王索  哲学与人生    及格  17汽车  201704\n",
       "5   陈林峰  哲学与人生  66.8  17汽车  201704\n",
       "0   熊洪林  哲学与人生  76.3  17汽车  201704\n",
       "3  徐雨志超  哲学与人生   NaN  17汽车  201704\n",
       "2    梁诚  哲学与人生  68.6  17汽车  201704\n",
       "4    林斌  哲学与人生  70.6  17汽车  201704"
      ]
     },
     "execution_count": 56,
     "metadata": {},
     "output_type": "execute_result"
    }
   ],
   "source": [
    "df=pd.read_excel('demo.xlsx')\n",
    "df=df.reindex(columns=['姓名','科目','分数','班级','学期'],index=[1,5,0,3,2,4])\n",
    "df#对列从新排,对行从新排"
   ]
  },
  {
   "cell_type": "markdown",
   "metadata": {
    "toc-hr-collapsed": true
   },
   "source": [
    "## 增加列 / 更新列\n",
    ">- 新增（更新）单列，df['新增列名']=int/str/list/dict...，默认在后面增加列，如果新增列名与原来重复，怎替换数据"
   ]
  },
  {
   "cell_type": "code",
   "execution_count": 135,
   "metadata": {},
   "outputs": [
    {
     "data": {
      "text/html": [
       "<div>\n",
       "<style scoped>\n",
       "    .dataframe tbody tr th:only-of-type {\n",
       "        vertical-align: middle;\n",
       "    }\n",
       "\n",
       "    .dataframe tbody tr th {\n",
       "        vertical-align: top;\n",
       "    }\n",
       "\n",
       "    .dataframe thead th {\n",
       "        text-align: right;\n",
       "    }\n",
       "</style>\n",
       "<table border=\"1\" class=\"dataframe\">\n",
       "  <thead>\n",
       "    <tr style=\"text-align: right;\">\n",
       "      <th></th>\n",
       "      <th>班级</th>\n",
       "      <th>姓名</th>\n",
       "      <th>分数</th>\n",
       "      <th>科目</th>\n",
       "    </tr>\n",
       "  </thead>\n",
       "  <tbody>\n",
       "    <tr>\n",
       "      <th>0</th>\n",
       "      <td>18计算机</td>\n",
       "      <td>makr</td>\n",
       "      <td>80</td>\n",
       "      <td>CAD</td>\n",
       "    </tr>\n",
       "    <tr>\n",
       "      <th>1</th>\n",
       "      <td>18计算机</td>\n",
       "      <td>You</td>\n",
       "      <td>90</td>\n",
       "      <td>CAD</td>\n",
       "    </tr>\n",
       "    <tr>\n",
       "      <th>2</th>\n",
       "      <td>18计算机</td>\n",
       "      <td>Anat</td>\n",
       "      <td>缺考</td>\n",
       "      <td>CAD</td>\n",
       "    </tr>\n",
       "  </tbody>\n",
       "</table>\n",
       "</div>"
      ],
      "text/plain": [
       "      班级    姓名  分数   科目\n",
       "0  18计算机  makr  80  CAD\n",
       "1  18计算机   You  90  CAD\n",
       "2  18计算机  Anat  缺考  CAD"
      ]
     },
     "execution_count": 135,
     "metadata": {},
     "output_type": "execute_result"
    }
   ],
   "source": [
    "data={\n",
    "    '班级':'18计算机',\n",
    "    '姓名':['makr','You','Anat'],\n",
    "    '分数':[80,90,'缺考']\n",
    "}\n",
    "df=pd.DataFrame(data)\n",
    "df['科目']='CAD'#新增科目列\n",
    "df\n"
   ]
  },
  {
   "cell_type": "code",
   "execution_count": 138,
   "metadata": {},
   "outputs": [
    {
     "data": {
      "text/html": [
       "<div>\n",
       "<style scoped>\n",
       "    .dataframe tbody tr th:only-of-type {\n",
       "        vertical-align: middle;\n",
       "    }\n",
       "\n",
       "    .dataframe tbody tr th {\n",
       "        vertical-align: top;\n",
       "    }\n",
       "\n",
       "    .dataframe thead th {\n",
       "        text-align: right;\n",
       "    }\n",
       "</style>\n",
       "<table border=\"1\" class=\"dataframe\">\n",
       "  <thead>\n",
       "    <tr style=\"text-align: right;\">\n",
       "      <th></th>\n",
       "      <th>班级</th>\n",
       "      <th>姓名</th>\n",
       "      <th>分数</th>\n",
       "      <th>科目</th>\n",
       "    </tr>\n",
       "  </thead>\n",
       "  <tbody>\n",
       "    <tr>\n",
       "      <th>0</th>\n",
       "      <td>18计算机</td>\n",
       "      <td>makr</td>\n",
       "      <td>80</td>\n",
       "      <td>CAD</td>\n",
       "    </tr>\n",
       "    <tr>\n",
       "      <th>1</th>\n",
       "      <td>18计算机</td>\n",
       "      <td>You</td>\n",
       "      <td>90</td>\n",
       "      <td>EXCEL</td>\n",
       "    </tr>\n",
       "    <tr>\n",
       "      <th>2</th>\n",
       "      <td>18计算机</td>\n",
       "      <td>Anat</td>\n",
       "      <td>缺考</td>\n",
       "      <td>PPT</td>\n",
       "    </tr>\n",
       "  </tbody>\n",
       "</table>\n",
       "</div>"
      ],
      "text/plain": [
       "      班级    姓名  分数     科目\n",
       "0  18计算机  makr  80    CAD\n",
       "1  18计算机   You  90  EXCEL\n",
       "2  18计算机  Anat  缺考    PPT"
      ]
     },
     "execution_count": 138,
     "metadata": {},
     "output_type": "execute_result"
    }
   ],
   "source": [
    "data={\n",
    "    '班级':'18计算机',\n",
    "    '姓名':['makr','You','Anat'],\n",
    "    '分数':[80,90,'缺考']\n",
    "}\n",
    "df=pd.DataFrame(data)\n",
    "df['科目']=['CAD','EXCEL','PPT'] #元素不能多也不能少，新增一个单列\n",
    "df\n"
   ]
  },
  {
   "cell_type": "code",
   "execution_count": 65,
   "metadata": {},
   "outputs": [
    {
     "data": {
      "text/html": [
       "<div>\n",
       "<style scoped>\n",
       "    .dataframe tbody tr th:only-of-type {\n",
       "        vertical-align: middle;\n",
       "    }\n",
       "\n",
       "    .dataframe tbody tr th {\n",
       "        vertical-align: top;\n",
       "    }\n",
       "\n",
       "    .dataframe thead th {\n",
       "        text-align: right;\n",
       "    }\n",
       "</style>\n",
       "<table border=\"1\" class=\"dataframe\">\n",
       "  <thead>\n",
       "    <tr style=\"text-align: right;\">\n",
       "      <th></th>\n",
       "      <th>班级</th>\n",
       "      <th>姓名</th>\n",
       "      <th>分数</th>\n",
       "    </tr>\n",
       "  </thead>\n",
       "  <tbody>\n",
       "    <tr>\n",
       "      <th>0</th>\n",
       "      <td>18计算机</td>\n",
       "      <td>makr</td>\n",
       "      <td>CAD</td>\n",
       "    </tr>\n",
       "    <tr>\n",
       "      <th>1</th>\n",
       "      <td>18计算机</td>\n",
       "      <td>You</td>\n",
       "      <td>CAD</td>\n",
       "    </tr>\n",
       "    <tr>\n",
       "      <th>2</th>\n",
       "      <td>18计算机</td>\n",
       "      <td>Anat</td>\n",
       "      <td>CAD</td>\n",
       "    </tr>\n",
       "  </tbody>\n",
       "</table>\n",
       "</div>"
      ],
      "text/plain": [
       "      班级    姓名   分数\n",
       "0  18计算机  makr  CAD\n",
       "1  18计算机   You  CAD\n",
       "2  18计算机  Anat  CAD"
      ]
     },
     "execution_count": 65,
     "metadata": {},
     "output_type": "execute_result"
    }
   ],
   "source": [
    "data={\n",
    "    '班级':'18计算机',\n",
    "    '姓名':['makr','You','Anat'],\n",
    "    '分数':[80,90,'缺考']\n",
    "}\n",
    "df=pd.DataFrame(data)\n",
    "df['分数']='CAD'#此时新增列变成替换列\n",
    "df"
   ]
  },
  {
   "cell_type": "markdown",
   "metadata": {},
   "source": [
    "# 增加行（替换行）\n",
    "\n",
    ">- df.loc[M]=['17计算机','EXCEL',54] #顺着行索m引往下增加,若M行在有数据，则替换数据\n",
    ">- df1=pd.DataFrame([['17计算机','EXCEL',54]],columns=['班级','姓名','分数'])\n",
    ">- fa=df.append(df1,ignore_index=True)\n"
   ]
  },
  {
   "cell_type": "code",
   "execution_count": 66,
   "metadata": {},
   "outputs": [
    {
     "data": {
      "text/html": [
       "<div>\n",
       "<style scoped>\n",
       "    .dataframe tbody tr th:only-of-type {\n",
       "        vertical-align: middle;\n",
       "    }\n",
       "\n",
       "    .dataframe tbody tr th {\n",
       "        vertical-align: top;\n",
       "    }\n",
       "\n",
       "    .dataframe thead th {\n",
       "        text-align: right;\n",
       "    }\n",
       "</style>\n",
       "<table border=\"1\" class=\"dataframe\">\n",
       "  <thead>\n",
       "    <tr style=\"text-align: right;\">\n",
       "      <th></th>\n",
       "      <th>班级</th>\n",
       "      <th>姓名</th>\n",
       "      <th>分数</th>\n",
       "    </tr>\n",
       "  </thead>\n",
       "  <tbody>\n",
       "    <tr>\n",
       "      <th>0</th>\n",
       "      <td>18计算机</td>\n",
       "      <td>makr</td>\n",
       "      <td>80</td>\n",
       "    </tr>\n",
       "    <tr>\n",
       "      <th>1</th>\n",
       "      <td>18计算机</td>\n",
       "      <td>You</td>\n",
       "      <td>90</td>\n",
       "    </tr>\n",
       "    <tr>\n",
       "      <th>2</th>\n",
       "      <td>18计算机</td>\n",
       "      <td>Anat</td>\n",
       "      <td>缺考</td>\n",
       "    </tr>\n",
       "    <tr>\n",
       "      <th>3</th>\n",
       "      <td>17计算机</td>\n",
       "      <td>EXCEL</td>\n",
       "      <td>54</td>\n",
       "    </tr>\n",
       "  </tbody>\n",
       "</table>\n",
       "</div>"
      ],
      "text/plain": [
       "      班级     姓名  分数\n",
       "0  18计算机   makr  80\n",
       "1  18计算机    You  90\n",
       "2  18计算机   Anat  缺考\n",
       "3  17计算机  EXCEL  54"
      ]
     },
     "execution_count": 66,
     "metadata": {},
     "output_type": "execute_result"
    }
   ],
   "source": [
    "data={\n",
    "    '班级':'18计算机',\n",
    "    '姓名':['makr','You','Anat'],\n",
    "    '分数':[80,90,'缺考']\n",
    "}\n",
    "df=pd.DataFrame(data)\n",
    "df.loc[3]=['17计算机','EXCEL',54] #顺着行索引往下增加,该方法要知道最后行索引值\n",
    "df"
   ]
  },
  {
   "cell_type": "code",
   "execution_count": 61,
   "metadata": {},
   "outputs": [
    {
     "data": {
      "text/html": [
       "<div>\n",
       "<style scoped>\n",
       "    .dataframe tbody tr th:only-of-type {\n",
       "        vertical-align: middle;\n",
       "    }\n",
       "\n",
       "    .dataframe tbody tr th {\n",
       "        vertical-align: top;\n",
       "    }\n",
       "\n",
       "    .dataframe thead th {\n",
       "        text-align: right;\n",
       "    }\n",
       "</style>\n",
       "<table border=\"1\" class=\"dataframe\">\n",
       "  <thead>\n",
       "    <tr style=\"text-align: right;\">\n",
       "      <th></th>\n",
       "      <th>班级</th>\n",
       "      <th>姓名</th>\n",
       "      <th>分数</th>\n",
       "    </tr>\n",
       "  </thead>\n",
       "  <tbody>\n",
       "    <tr>\n",
       "      <th>0</th>\n",
       "      <td>18计算机</td>\n",
       "      <td>makr</td>\n",
       "      <td>80</td>\n",
       "    </tr>\n",
       "    <tr>\n",
       "      <th>1</th>\n",
       "      <td>18计算机</td>\n",
       "      <td>You</td>\n",
       "      <td>90</td>\n",
       "    </tr>\n",
       "    <tr>\n",
       "      <th>2</th>\n",
       "      <td>18计算机</td>\n",
       "      <td>Anat</td>\n",
       "      <td>缺考</td>\n",
       "    </tr>\n",
       "    <tr>\n",
       "      <th>4</th>\n",
       "      <td>17汽车</td>\n",
       "      <td>发动机维修</td>\n",
       "      <td>57</td>\n",
       "    </tr>\n",
       "  </tbody>\n",
       "</table>\n",
       "</div>"
      ],
      "text/plain": [
       "      班级     姓名  分数\n",
       "0  18计算机   makr  80\n",
       "1  18计算机    You  90\n",
       "2  18计算机   Anat  缺考\n",
       "4   17汽车  发动机维修  57"
      ]
     },
     "execution_count": 61,
     "metadata": {},
     "output_type": "execute_result"
    }
   ],
   "source": [
    "data={\n",
    "    '班级':'18计算机',\n",
    "    '姓名':['makr','You','Anat'],\n",
    "    '分数':[80,90,'缺考']\n",
    "}\n",
    "df=pd.DataFrame(data)\n",
    "df.loc[df['班级'].count()+1]=['17汽车','发动机维修',57] #顺着行索引往下增加,df['班级'].count()返回的是一个数字，而df.count()返回的是多个数字\n",
    "df"
   ]
  },
  {
   "cell_type": "code",
   "execution_count": 62,
   "metadata": {},
   "outputs": [
    {
     "data": {
      "text/html": [
       "<div>\n",
       "<style scoped>\n",
       "    .dataframe tbody tr th:only-of-type {\n",
       "        vertical-align: middle;\n",
       "    }\n",
       "\n",
       "    .dataframe tbody tr th {\n",
       "        vertical-align: top;\n",
       "    }\n",
       "\n",
       "    .dataframe thead th {\n",
       "        text-align: right;\n",
       "    }\n",
       "</style>\n",
       "<table border=\"1\" class=\"dataframe\">\n",
       "  <thead>\n",
       "    <tr style=\"text-align: right;\">\n",
       "      <th></th>\n",
       "      <th>班级</th>\n",
       "      <th>姓名</th>\n",
       "      <th>分数</th>\n",
       "    </tr>\n",
       "  </thead>\n",
       "  <tbody>\n",
       "    <tr>\n",
       "      <th>0</th>\n",
       "      <td>18计算机</td>\n",
       "      <td>makr</td>\n",
       "      <td>80</td>\n",
       "    </tr>\n",
       "    <tr>\n",
       "      <th>1</th>\n",
       "      <td>18计算机</td>\n",
       "      <td>You</td>\n",
       "      <td>90</td>\n",
       "    </tr>\n",
       "    <tr>\n",
       "      <th>2</th>\n",
       "      <td>18计算机</td>\n",
       "      <td>Anat</td>\n",
       "      <td>缺考</td>\n",
       "    </tr>\n",
       "    <tr>\n",
       "      <th>3</th>\n",
       "      <td>17计算机</td>\n",
       "      <td>EXCEL</td>\n",
       "      <td>54</td>\n",
       "    </tr>\n",
       "  </tbody>\n",
       "</table>\n",
       "</div>"
      ],
      "text/plain": [
       "      班级     姓名  分数\n",
       "0  18计算机   makr  80\n",
       "1  18计算机    You  90\n",
       "2  18计算机   Anat  缺考\n",
       "3  17计算机  EXCEL  54"
      ]
     },
     "execution_count": 62,
     "metadata": {},
     "output_type": "execute_result"
    }
   ],
   "source": [
    "data={\n",
    "    '班级':'18计算机',\n",
    "    '姓名':['makr','You','Anat'],\n",
    "    '分数':[80,90,'缺考']\n",
    "}\n",
    "df=pd.DataFrame(data)\n",
    "fa=df.append(pd.DataFrame([['17计算机','EXCEL',54]],columns=['班级','姓名','分数']),ignore_index=True) \n",
    "fa"
   ]
  },
  {
   "cell_type": "code",
   "execution_count": 67,
   "metadata": {},
   "outputs": [
    {
     "data": {
      "text/html": [
       "<div>\n",
       "<style scoped>\n",
       "    .dataframe tbody tr th:only-of-type {\n",
       "        vertical-align: middle;\n",
       "    }\n",
       "\n",
       "    .dataframe tbody tr th {\n",
       "        vertical-align: top;\n",
       "    }\n",
       "\n",
       "    .dataframe thead th {\n",
       "        text-align: right;\n",
       "    }\n",
       "</style>\n",
       "<table border=\"1\" class=\"dataframe\">\n",
       "  <thead>\n",
       "    <tr style=\"text-align: right;\">\n",
       "      <th></th>\n",
       "      <th>班级</th>\n",
       "      <th>姓名</th>\n",
       "      <th>分数</th>\n",
       "    </tr>\n",
       "  </thead>\n",
       "  <tbody>\n",
       "    <tr>\n",
       "      <th>0</th>\n",
       "      <td>17计算机</td>\n",
       "      <td>EXCEL</td>\n",
       "      <td>54</td>\n",
       "    </tr>\n",
       "    <tr>\n",
       "      <th>1</th>\n",
       "      <td>18计算机</td>\n",
       "      <td>You</td>\n",
       "      <td>90</td>\n",
       "    </tr>\n",
       "    <tr>\n",
       "      <th>2</th>\n",
       "      <td>18计算机</td>\n",
       "      <td>Anat</td>\n",
       "      <td>缺考</td>\n",
       "    </tr>\n",
       "  </tbody>\n",
       "</table>\n",
       "</div>"
      ],
      "text/plain": [
       "      班级     姓名  分数\n",
       "0  17计算机  EXCEL  54\n",
       "1  18计算机    You  90\n",
       "2  18计算机   Anat  缺考"
      ]
     },
     "execution_count": 67,
     "metadata": {},
     "output_type": "execute_result"
    }
   ],
   "source": [
    "data={\n",
    "    '班级':'18计算机',\n",
    "    '姓名':['makr','You','Anat'],\n",
    "    '分数':[80,90,'缺考']\n",
    "}\n",
    "df=pd.DataFrame(data)\n",
    "df.loc[0]=['17计算机','EXCEL',54] #此时行怎行变成了替换行\n",
    "df"
   ]
  },
  {
   "cell_type": "markdown",
   "metadata": {},
   "source": [
    "# 删除行/列\n",
    "\n",
    "删除列：df.pop（‘列索引’）\n",
    "删除行：df.drop(df.index[0], inplace=True) 删除第1含\n"
   ]
  },
  {
   "cell_type": "code",
   "execution_count": 69,
   "metadata": {},
   "outputs": [
    {
     "data": {
      "text/html": [
       "<div>\n",
       "<style scoped>\n",
       "    .dataframe tbody tr th:only-of-type {\n",
       "        vertical-align: middle;\n",
       "    }\n",
       "\n",
       "    .dataframe tbody tr th {\n",
       "        vertical-align: top;\n",
       "    }\n",
       "\n",
       "    .dataframe thead th {\n",
       "        text-align: right;\n",
       "    }\n",
       "</style>\n",
       "<table border=\"1\" class=\"dataframe\">\n",
       "  <thead>\n",
       "    <tr style=\"text-align: right;\">\n",
       "      <th></th>\n",
       "      <th>姓名</th>\n",
       "      <th>分数</th>\n",
       "    </tr>\n",
       "  </thead>\n",
       "  <tbody>\n",
       "    <tr>\n",
       "      <th>0</th>\n",
       "      <td>makr</td>\n",
       "      <td>80</td>\n",
       "    </tr>\n",
       "    <tr>\n",
       "      <th>1</th>\n",
       "      <td>You</td>\n",
       "      <td>90</td>\n",
       "    </tr>\n",
       "    <tr>\n",
       "      <th>2</th>\n",
       "      <td>Anat</td>\n",
       "      <td>缺考</td>\n",
       "    </tr>\n",
       "  </tbody>\n",
       "</table>\n",
       "</div>"
      ],
      "text/plain": [
       "     姓名  分数\n",
       "0  makr  80\n",
       "1   You  90\n",
       "2  Anat  缺考"
      ]
     },
     "execution_count": 69,
     "metadata": {},
     "output_type": "execute_result"
    }
   ],
   "source": [
    "data={\n",
    "    '班级':'18计算机',\n",
    "    '姓名':['makr','You','Anat'],\n",
    "    '分数':[80,90,'缺考']\n",
    "}\n",
    "df=pd.DataFrame(data)\n",
    "df.pop('班级')\n",
    "df"
   ]
  },
  {
   "cell_type": "code",
   "execution_count": 70,
   "metadata": {},
   "outputs": [
    {
     "data": {
      "text/html": [
       "<div>\n",
       "<style scoped>\n",
       "    .dataframe tbody tr th:only-of-type {\n",
       "        vertical-align: middle;\n",
       "    }\n",
       "\n",
       "    .dataframe tbody tr th {\n",
       "        vertical-align: top;\n",
       "    }\n",
       "\n",
       "    .dataframe thead th {\n",
       "        text-align: right;\n",
       "    }\n",
       "</style>\n",
       "<table border=\"1\" class=\"dataframe\">\n",
       "  <thead>\n",
       "    <tr style=\"text-align: right;\">\n",
       "      <th></th>\n",
       "      <th>班级</th>\n",
       "      <th>姓名</th>\n",
       "      <th>分数</th>\n",
       "    </tr>\n",
       "  </thead>\n",
       "  <tbody>\n",
       "    <tr>\n",
       "      <th>1</th>\n",
       "      <td>18计算机</td>\n",
       "      <td>You</td>\n",
       "      <td>90</td>\n",
       "    </tr>\n",
       "    <tr>\n",
       "      <th>2</th>\n",
       "      <td>18计算机</td>\n",
       "      <td>Anat</td>\n",
       "      <td>缺考</td>\n",
       "    </tr>\n",
       "  </tbody>\n",
       "</table>\n",
       "</div>"
      ],
      "text/plain": [
       "      班级    姓名  分数\n",
       "1  18计算机   You  90\n",
       "2  18计算机  Anat  缺考"
      ]
     },
     "execution_count": 70,
     "metadata": {},
     "output_type": "execute_result"
    }
   ],
   "source": [
    "data={\n",
    "    '班级':'18计算机',\n",
    "    '姓名':['makr','You','Anat'],\n",
    "    '分数':[80,90,'缺考']\n",
    "}\n",
    "df=pd.DataFrame(data)\n",
    "df.drop(df.index[0], inplace=True)\n",
    "df"
   ]
  },
  {
   "cell_type": "markdown",
   "metadata": {},
   "source": [
    "# 填充NaN\n",
    "\n",
    ">- df.fillna(value='填充的数据',inplace = True),inplace = True让源数据发生改变,对正个表填充\n",
    ">- df[列].fillna(value='填充的数据',inplace = True)，对特定列填充"
   ]
  },
  {
   "cell_type": "code",
   "execution_count": 71,
   "metadata": {},
   "outputs": [
    {
     "data": {
      "text/html": [
       "<div>\n",
       "<style scoped>\n",
       "    .dataframe tbody tr th:only-of-type {\n",
       "        vertical-align: middle;\n",
       "    }\n",
       "\n",
       "    .dataframe tbody tr th {\n",
       "        vertical-align: top;\n",
       "    }\n",
       "\n",
       "    .dataframe thead th {\n",
       "        text-align: right;\n",
       "    }\n",
       "</style>\n",
       "<table border=\"1\" class=\"dataframe\">\n",
       "  <thead>\n",
       "    <tr style=\"text-align: right;\">\n",
       "      <th></th>\n",
       "      <th>a</th>\n",
       "      <th>b</th>\n",
       "      <th>c</th>\n",
       "    </tr>\n",
       "  </thead>\n",
       "  <tbody>\n",
       "    <tr>\n",
       "      <th>0</th>\n",
       "      <td>2.0</td>\n",
       "      <td>3.0</td>\n",
       "      <td>NaN</td>\n",
       "    </tr>\n",
       "    <tr>\n",
       "      <th>1</th>\n",
       "      <td>1.0</td>\n",
       "      <td>2.0</td>\n",
       "      <td>4.0</td>\n",
       "    </tr>\n",
       "    <tr>\n",
       "      <th>2</th>\n",
       "      <td>NaN</td>\n",
       "      <td>NaN</td>\n",
       "      <td>NaN</td>\n",
       "    </tr>\n",
       "    <tr>\n",
       "      <th>3</th>\n",
       "      <td>1.0</td>\n",
       "      <td>2.0</td>\n",
       "      <td>3.0</td>\n",
       "    </tr>\n",
       "    <tr>\n",
       "      <th>4</th>\n",
       "      <td>1.0</td>\n",
       "      <td>2.0</td>\n",
       "      <td>NaN</td>\n",
       "    </tr>\n",
       "    <tr>\n",
       "      <th>5</th>\n",
       "      <td>1.0</td>\n",
       "      <td>2.0</td>\n",
       "      <td>5.0</td>\n",
       "    </tr>\n",
       "  </tbody>\n",
       "</table>\n",
       "</div>"
      ],
      "text/plain": [
       "     a    b    c\n",
       "0  2.0  3.0  NaN\n",
       "1  1.0  2.0  4.0\n",
       "2  NaN  NaN  NaN\n",
       "3  1.0  2.0  3.0\n",
       "4  1.0  2.0  NaN\n",
       "5  1.0  2.0  5.0"
      ]
     },
     "execution_count": 71,
     "metadata": {},
     "output_type": "execute_result"
    }
   ],
   "source": [
    "df = pd.DataFrame(data=[[2,3],\n",
    "                        [1,2,4],\n",
    "                        [],\n",
    "                        [1,2,3],\n",
    "                        [1,2],\n",
    "                        [1,2,5]],\n",
    "                 columns=['a','b','c'])\n",
    "df"
   ]
  },
  {
   "cell_type": "code",
   "execution_count": 72,
   "metadata": {},
   "outputs": [
    {
     "data": {
      "text/html": [
       "<div>\n",
       "<style scoped>\n",
       "    .dataframe tbody tr th:only-of-type {\n",
       "        vertical-align: middle;\n",
       "    }\n",
       "\n",
       "    .dataframe tbody tr th {\n",
       "        vertical-align: top;\n",
       "    }\n",
       "\n",
       "    .dataframe thead th {\n",
       "        text-align: right;\n",
       "    }\n",
       "</style>\n",
       "<table border=\"1\" class=\"dataframe\">\n",
       "  <thead>\n",
       "    <tr style=\"text-align: right;\">\n",
       "      <th></th>\n",
       "      <th>a</th>\n",
       "      <th>b</th>\n",
       "      <th>c</th>\n",
       "    </tr>\n",
       "  </thead>\n",
       "  <tbody>\n",
       "    <tr>\n",
       "      <th>0</th>\n",
       "      <td>2</td>\n",
       "      <td>3</td>\n",
       "      <td>ok</td>\n",
       "    </tr>\n",
       "    <tr>\n",
       "      <th>1</th>\n",
       "      <td>1</td>\n",
       "      <td>2</td>\n",
       "      <td>4</td>\n",
       "    </tr>\n",
       "    <tr>\n",
       "      <th>2</th>\n",
       "      <td>ok</td>\n",
       "      <td>ok</td>\n",
       "      <td>ok</td>\n",
       "    </tr>\n",
       "    <tr>\n",
       "      <th>3</th>\n",
       "      <td>1</td>\n",
       "      <td>2</td>\n",
       "      <td>3</td>\n",
       "    </tr>\n",
       "    <tr>\n",
       "      <th>4</th>\n",
       "      <td>1</td>\n",
       "      <td>2</td>\n",
       "      <td>ok</td>\n",
       "    </tr>\n",
       "    <tr>\n",
       "      <th>5</th>\n",
       "      <td>1</td>\n",
       "      <td>2</td>\n",
       "      <td>5</td>\n",
       "    </tr>\n",
       "  </tbody>\n",
       "</table>\n",
       "</div>"
      ],
      "text/plain": [
       "    a   b   c\n",
       "0   2   3  ok\n",
       "1   1   2   4\n",
       "2  ok  ok  ok\n",
       "3   1   2   3\n",
       "4   1   2  ok\n",
       "5   1   2   5"
      ]
     },
     "execution_count": 72,
     "metadata": {},
     "output_type": "execute_result"
    }
   ],
   "source": [
    "df = pd.DataFrame(data=[[2,3],\n",
    "                        [1,2,4],\n",
    "                        [],\n",
    "                        [1,2,3],\n",
    "                        [1,2],\n",
    "                        [1,2,5]],\n",
    "                 columns=['a','b','c'])\n",
    "df.fillna(value='ok',inplace = True)\n",
    "df"
   ]
  },
  {
   "cell_type": "code",
   "execution_count": 68,
   "metadata": {},
   "outputs": [
    {
     "data": {
      "text/html": [
       "<div>\n",
       "<style scoped>\n",
       "    .dataframe tbody tr th:only-of-type {\n",
       "        vertical-align: middle;\n",
       "    }\n",
       "\n",
       "    .dataframe tbody tr th {\n",
       "        vertical-align: top;\n",
       "    }\n",
       "\n",
       "    .dataframe thead th {\n",
       "        text-align: right;\n",
       "    }\n",
       "</style>\n",
       "<table border=\"1\" class=\"dataframe\">\n",
       "  <thead>\n",
       "    <tr style=\"text-align: right;\">\n",
       "      <th></th>\n",
       "      <th>a</th>\n",
       "      <th>b</th>\n",
       "      <th>c</th>\n",
       "    </tr>\n",
       "  </thead>\n",
       "  <tbody>\n",
       "    <tr>\n",
       "      <th>0</th>\n",
       "      <td>2</td>\n",
       "      <td>3.0</td>\n",
       "      <td>NaN</td>\n",
       "    </tr>\n",
       "    <tr>\n",
       "      <th>1</th>\n",
       "      <td>1</td>\n",
       "      <td>2.0</td>\n",
       "      <td>4.0</td>\n",
       "    </tr>\n",
       "    <tr>\n",
       "      <th>2</th>\n",
       "      <td>ok</td>\n",
       "      <td>NaN</td>\n",
       "      <td>NaN</td>\n",
       "    </tr>\n",
       "    <tr>\n",
       "      <th>3</th>\n",
       "      <td>1</td>\n",
       "      <td>2.0</td>\n",
       "      <td>3.0</td>\n",
       "    </tr>\n",
       "    <tr>\n",
       "      <th>4</th>\n",
       "      <td>1</td>\n",
       "      <td>2.0</td>\n",
       "      <td>NaN</td>\n",
       "    </tr>\n",
       "    <tr>\n",
       "      <th>5</th>\n",
       "      <td>1</td>\n",
       "      <td>2.0</td>\n",
       "      <td>5.0</td>\n",
       "    </tr>\n",
       "  </tbody>\n",
       "</table>\n",
       "</div>"
      ],
      "text/plain": [
       "    a    b    c\n",
       "0   2  3.0  NaN\n",
       "1   1  2.0  4.0\n",
       "2  ok  NaN  NaN\n",
       "3   1  2.0  3.0\n",
       "4   1  2.0  NaN\n",
       "5   1  2.0  5.0"
      ]
     },
     "execution_count": 68,
     "metadata": {},
     "output_type": "execute_result"
    }
   ],
   "source": [
    "df = pd.DataFrame(data=[[2,3],\n",
    "                        [1,2,4],\n",
    "                        [],\n",
    "                        [1,2,3],\n",
    "                        [1,2],\n",
    "                        [1,2,5]],\n",
    "                 columns=['a','b','c'])\n",
    "df['a'].fillna(value='ok',inplace = True) #只对a列填充空值\n",
    "df"
   ]
  },
  {
   "cell_type": "code",
   "execution_count": 77,
   "metadata": {},
   "outputs": [
    {
     "data": {
      "text/html": [
       "<div>\n",
       "<style scoped>\n",
       "    .dataframe tbody tr th:only-of-type {\n",
       "        vertical-align: middle;\n",
       "    }\n",
       "\n",
       "    .dataframe tbody tr th {\n",
       "        vertical-align: top;\n",
       "    }\n",
       "\n",
       "    .dataframe thead th {\n",
       "        text-align: right;\n",
       "    }\n",
       "</style>\n",
       "<table border=\"1\" class=\"dataframe\">\n",
       "  <thead>\n",
       "    <tr style=\"text-align: right;\">\n",
       "      <th></th>\n",
       "      <th>b</th>\n",
       "      <th>c</th>\n",
       "    </tr>\n",
       "  </thead>\n",
       "  <tbody>\n",
       "    <tr>\n",
       "      <th>0</th>\n",
       "      <td>3</td>\n",
       "      <td>ok</td>\n",
       "    </tr>\n",
       "    <tr>\n",
       "      <th>1</th>\n",
       "      <td>2</td>\n",
       "      <td>4</td>\n",
       "    </tr>\n",
       "    <tr>\n",
       "      <th>2</th>\n",
       "      <td>ok</td>\n",
       "      <td>ok</td>\n",
       "    </tr>\n",
       "    <tr>\n",
       "      <th>3</th>\n",
       "      <td>2</td>\n",
       "      <td>3</td>\n",
       "    </tr>\n",
       "    <tr>\n",
       "      <th>4</th>\n",
       "      <td>2</td>\n",
       "      <td>ok</td>\n",
       "    </tr>\n",
       "    <tr>\n",
       "      <th>5</th>\n",
       "      <td>2</td>\n",
       "      <td>5</td>\n",
       "    </tr>\n",
       "  </tbody>\n",
       "</table>\n",
       "</div>"
      ],
      "text/plain": [
       "    b   c\n",
       "0   3  ok\n",
       "1   2   4\n",
       "2  ok  ok\n",
       "3   2   3\n",
       "4   2  ok\n",
       "5   2   5"
      ]
     },
     "execution_count": 77,
     "metadata": {},
     "output_type": "execute_result"
    }
   ],
   "source": [
    "df = pd.DataFrame(data=[[2,3],\n",
    "                        [1,2,4],\n",
    "                        [],\n",
    "                        [1,2,3],\n",
    "                        [1,2],\n",
    "                        [1,2,5]],\n",
    "                 columns=['a','b','c'])\n",
    "df=df[['b','c']].fillna(value='ok') #只对b列，c列填充空值\n",
    "df"
   ]
  },
  {
   "cell_type": "markdown",
   "metadata": {},
   "source": [
    "# 创建副本 df.copy()"
   ]
  },
  {
   "cell_type": "code",
   "execution_count": 73,
   "metadata": {},
   "outputs": [
    {
     "data": {
      "text/html": [
       "<div>\n",
       "<style scoped>\n",
       "    .dataframe tbody tr th:only-of-type {\n",
       "        vertical-align: middle;\n",
       "    }\n",
       "\n",
       "    .dataframe tbody tr th {\n",
       "        vertical-align: top;\n",
       "    }\n",
       "\n",
       "    .dataframe thead th {\n",
       "        text-align: right;\n",
       "    }\n",
       "</style>\n",
       "<table border=\"1\" class=\"dataframe\">\n",
       "  <thead>\n",
       "    <tr style=\"text-align: right;\">\n",
       "      <th></th>\n",
       "      <th>班级</th>\n",
       "      <th>姓名</th>\n",
       "      <th>分数</th>\n",
       "    </tr>\n",
       "  </thead>\n",
       "  <tbody>\n",
       "    <tr>\n",
       "      <th>0</th>\n",
       "      <td>18计算机</td>\n",
       "      <td>makr</td>\n",
       "      <td>80</td>\n",
       "    </tr>\n",
       "    <tr>\n",
       "      <th>1</th>\n",
       "      <td>18计算机</td>\n",
       "      <td>You</td>\n",
       "      <td>90</td>\n",
       "    </tr>\n",
       "    <tr>\n",
       "      <th>2</th>\n",
       "      <td>18计算机</td>\n",
       "      <td>Anat</td>\n",
       "      <td>缺考</td>\n",
       "    </tr>\n",
       "  </tbody>\n",
       "</table>\n",
       "</div>"
      ],
      "text/plain": [
       "      班级    姓名  分数\n",
       "0  18计算机  makr  80\n",
       "1  18计算机   You  90\n",
       "2  18计算机  Anat  缺考"
      ]
     },
     "execution_count": 73,
     "metadata": {},
     "output_type": "execute_result"
    }
   ],
   "source": [
    "data={\n",
    "    '班级':'18计算机',\n",
    "    '姓名':['makr','You','Anat'],\n",
    "    '分数':[80,90,'缺考']\n",
    "}\n",
    "df=pd.DataFrame(data)\n",
    "df1=df.copy()\n",
    "df1"
   ]
  },
  {
   "cell_type": "markdown",
   "metadata": {
    "toc-hr-collapsed": true
   },
   "source": [
    "# 计算"
   ]
  },
  {
   "cell_type": "code",
   "execution_count": 74,
   "metadata": {},
   "outputs": [
    {
     "name": "stdout",
     "output_type": "stream",
     "text": [
      "   a  b  c\n",
      "0  1  2  3\n",
      "1  5  2  4\n",
      "2  1  2  4\n",
      "3  1  2  3\n",
      "4  1  2  5\n",
      "5  1  2  5\n",
      "1.6666666666666667\n"
     ]
    }
   ],
   "source": [
    "df = pd.DataFrame(data=[[1,2,3],\n",
    "                        [5,2,4],\n",
    "                        [1,2,4],\n",
    "                        [1,2,3],\n",
    "                        [1,2,5],\n",
    "                        [1,2,5]],\n",
    "                 columns=['a','b','c'])\n",
    "\n",
    "\n",
    "print(df)\n",
    "print(df.a.mean())"
   ]
  },
  {
   "cell_type": "code",
   "execution_count": 75,
   "metadata": {},
   "outputs": [
    {
     "data": {
      "text/plain": [
       "<function print>"
      ]
     },
     "execution_count": 75,
     "metadata": {},
     "output_type": "execute_result"
    }
   ],
   "source": [
    "print"
   ]
  }
 ],
 "metadata": {
  "kernelspec": {
   "display_name": "Python 3",
   "language": "python",
   "name": "python3"
  },
  "language_info": {
   "codemirror_mode": {
    "name": "ipython",
    "version": 3
   },
   "file_extension": ".py",
   "mimetype": "text/x-python",
   "name": "python",
   "nbconvert_exporter": "python",
   "pygments_lexer": "ipython3",
   "version": "3.7.3"
  },
  "toc": {
   "base_numbering": 1,
   "nav_menu": {},
   "number_sections": true,
   "sideBar": true,
   "skip_h1_title": false,
   "title_cell": "Table of Contents",
   "title_sidebar": "Contents",
   "toc_cell": false,
   "toc_position": {
    "height": "calc(100% - 180px)",
    "left": "10px",
    "top": "150px",
    "width": "312.303px"
   },
   "toc_section_display": true,
   "toc_window_display": true
  },
  "toc-autonumbering": true
 },
 "nbformat": 4,
 "nbformat_minor": 2
}
